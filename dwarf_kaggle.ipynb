{
 "cells": [
  {
   "cell_type": "code",
   "execution_count": 1,
   "id": "5d2d0ab6",
   "metadata": {
    "execution": {
     "iopub.execute_input": "2023-02-10T05:59:46.986204Z",
     "iopub.status.busy": "2023-02-10T05:59:46.985591Z",
     "iopub.status.idle": "2023-02-10T05:59:47.018023Z",
     "shell.execute_reply": "2023-02-10T05:59:47.016666Z",
     "shell.execute_reply.started": "2023-02-10T05:59:46.986027Z"
    }
   },
   "outputs": [],
   "source": [
    "import warnings\n",
    "warnings.filterwarnings('ignore')\n",
    "\n",
    "import pandas as pd\n",
    "import numpy as np"
   ]
  },
  {
   "cell_type": "markdown",
   "id": "4a9bfc33",
   "metadata": {},
   "source": [
    "### Базовое знакомство с данными"
   ]
  },
  {
   "cell_type": "code",
   "execution_count": 2,
   "id": "7df73309",
   "metadata": {
    "execution": {
     "iopub.execute_input": "2023-02-10T05:59:47.162412Z",
     "iopub.status.busy": "2023-02-10T05:59:47.161673Z",
     "iopub.status.idle": "2023-02-10T05:59:47.239061Z",
     "shell.execute_reply": "2023-02-10T05:59:47.237865Z",
     "shell.execute_reply.started": "2023-02-10T05:59:47.162366Z"
    }
   },
   "outputs": [
    {
     "data": {
      "text/html": [
       "<div>\n",
       "<style scoped>\n",
       "    .dataframe tbody tr th:only-of-type {\n",
       "        vertical-align: middle;\n",
       "    }\n",
       "\n",
       "    .dataframe tbody tr th {\n",
       "        vertical-align: top;\n",
       "    }\n",
       "\n",
       "    .dataframe thead th {\n",
       "        text-align: right;\n",
       "    }\n",
       "</style>\n",
       "<table border=\"1\" class=\"dataframe\">\n",
       "  <thead>\n",
       "    <tr style=\"text-align: right;\">\n",
       "      <th></th>\n",
       "      <th>Deal_id</th>\n",
       "      <th>Deal_date</th>\n",
       "      <th>First_deal_date</th>\n",
       "      <th>Secret_dwarf_info_1</th>\n",
       "      <th>Secret_dwarf_info_2</th>\n",
       "      <th>Secret_dwarf_info_3</th>\n",
       "      <th>First_default_date</th>\n",
       "      <th>Successful_deals_count</th>\n",
       "      <th>Region</th>\n",
       "      <th>Tavern</th>\n",
       "      <th>Hashed_deal_detail_1</th>\n",
       "      <th>Hashed_deal_detail_2</th>\n",
       "      <th>Hashed_deal_detail_3</th>\n",
       "      <th>Hashed_deal_detail_4</th>\n",
       "      <th>Hashed_deal_detail_5</th>\n",
       "      <th>Hashed_deal_detail_6</th>\n",
       "      <th>Age</th>\n",
       "      <th>Gender</th>\n",
       "      <th>Default</th>\n",
       "    </tr>\n",
       "  </thead>\n",
       "  <tbody>\n",
       "    <tr>\n",
       "      <th>0</th>\n",
       "      <td>22487461</td>\n",
       "      <td>2015-11-05</td>\n",
       "      <td>2015-08-29</td>\n",
       "      <td>NaN</td>\n",
       "      <td>NaN</td>\n",
       "      <td>NaN</td>\n",
       "      <td>NaN</td>\n",
       "      <td>0.0</td>\n",
       "      <td>Tavern_district_3</td>\n",
       "      <td>7</td>\n",
       "      <td>2.5</td>\n",
       "      <td>-3</td>\n",
       "      <td>8</td>\n",
       "      <td>2.5</td>\n",
       "      <td>-3</td>\n",
       "      <td>5</td>\n",
       "      <td>36.0</td>\n",
       "      <td>Male</td>\n",
       "      <td>0</td>\n",
       "    </tr>\n",
       "    <tr>\n",
       "      <th>1</th>\n",
       "      <td>62494261</td>\n",
       "      <td>2016-08-26</td>\n",
       "      <td>2015-12-21</td>\n",
       "      <td>3.5</td>\n",
       "      <td>-2.0</td>\n",
       "      <td>5.0</td>\n",
       "      <td>2016-07-30</td>\n",
       "      <td>2.0</td>\n",
       "      <td>Tavern_district_4</td>\n",
       "      <td>7</td>\n",
       "      <td>2.5</td>\n",
       "      <td>-3</td>\n",
       "      <td>14</td>\n",
       "      <td>3.5</td>\n",
       "      <td>-3</td>\n",
       "      <td>5</td>\n",
       "      <td>29.0</td>\n",
       "      <td>Female</td>\n",
       "      <td>1</td>\n",
       "    </tr>\n",
       "    <tr>\n",
       "      <th>2</th>\n",
       "      <td>34822849</td>\n",
       "      <td>2016-02-18</td>\n",
       "      <td>2015-11-11</td>\n",
       "      <td>NaN</td>\n",
       "      <td>NaN</td>\n",
       "      <td>NaN</td>\n",
       "      <td>NaN</td>\n",
       "      <td>0.0</td>\n",
       "      <td>Tavern_district_6</td>\n",
       "      <td>7</td>\n",
       "      <td>2.5</td>\n",
       "      <td>-3</td>\n",
       "      <td>8</td>\n",
       "      <td>2.5</td>\n",
       "      <td>-3</td>\n",
       "      <td>5</td>\n",
       "      <td>56.0</td>\n",
       "      <td>Female</td>\n",
       "      <td>0</td>\n",
       "    </tr>\n",
       "    <tr>\n",
       "      <th>3</th>\n",
       "      <td>46893387</td>\n",
       "      <td>2016-04-30</td>\n",
       "      <td>2016-03-22</td>\n",
       "      <td>NaN</td>\n",
       "      <td>NaN</td>\n",
       "      <td>NaN</td>\n",
       "      <td>NaN</td>\n",
       "      <td>0.0</td>\n",
       "      <td>Tavern_district_2</td>\n",
       "      <td>13</td>\n",
       "      <td>2.5</td>\n",
       "      <td>-2</td>\n",
       "      <td>5</td>\n",
       "      <td>2.5</td>\n",
       "      <td>-3</td>\n",
       "      <td>5</td>\n",
       "      <td>27.0</td>\n",
       "      <td>Female</td>\n",
       "      <td>0</td>\n",
       "    </tr>\n",
       "    <tr>\n",
       "      <th>4</th>\n",
       "      <td>67128275</td>\n",
       "      <td>2016-09-19</td>\n",
       "      <td>2016-07-21</td>\n",
       "      <td>NaN</td>\n",
       "      <td>NaN</td>\n",
       "      <td>NaN</td>\n",
       "      <td>NaN</td>\n",
       "      <td>0.0</td>\n",
       "      <td>Tavern_district_4</td>\n",
       "      <td>39</td>\n",
       "      <td>2.5</td>\n",
       "      <td>-3</td>\n",
       "      <td>7</td>\n",
       "      <td>2.5</td>\n",
       "      <td>-3</td>\n",
       "      <td>5</td>\n",
       "      <td>37.0</td>\n",
       "      <td>Female</td>\n",
       "      <td>0</td>\n",
       "    </tr>\n",
       "  </tbody>\n",
       "</table>\n",
       "</div>"
      ],
      "text/plain": [
       "    Deal_id   Deal_date First_deal_date  Secret_dwarf_info_1  \\\n",
       "0  22487461  2015-11-05      2015-08-29                  NaN   \n",
       "1  62494261  2016-08-26      2015-12-21                  3.5   \n",
       "2  34822849  2016-02-18      2015-11-11                  NaN   \n",
       "3  46893387  2016-04-30      2016-03-22                  NaN   \n",
       "4  67128275  2016-09-19      2016-07-21                  NaN   \n",
       "\n",
       "   Secret_dwarf_info_2  Secret_dwarf_info_3 First_default_date  \\\n",
       "0                  NaN                  NaN                NaN   \n",
       "1                 -2.0                  5.0         2016-07-30   \n",
       "2                  NaN                  NaN                NaN   \n",
       "3                  NaN                  NaN                NaN   \n",
       "4                  NaN                  NaN                NaN   \n",
       "\n",
       "   Successful_deals_count             Region  Tavern  Hashed_deal_detail_1  \\\n",
       "0                     0.0  Tavern_district_3       7                   2.5   \n",
       "1                     2.0  Tavern_district_4       7                   2.5   \n",
       "2                     0.0  Tavern_district_6       7                   2.5   \n",
       "3                     0.0  Tavern_district_2      13                   2.5   \n",
       "4                     0.0  Tavern_district_4      39                   2.5   \n",
       "\n",
       "   Hashed_deal_detail_2  Hashed_deal_detail_3  Hashed_deal_detail_4  \\\n",
       "0                    -3                     8                   2.5   \n",
       "1                    -3                    14                   3.5   \n",
       "2                    -3                     8                   2.5   \n",
       "3                    -2                     5                   2.5   \n",
       "4                    -3                     7                   2.5   \n",
       "\n",
       "   Hashed_deal_detail_5  Hashed_deal_detail_6   Age  Gender  Default  \n",
       "0                    -3                     5  36.0    Male        0  \n",
       "1                    -3                     5  29.0  Female        1  \n",
       "2                    -3                     5  56.0  Female        0  \n",
       "3                    -3                     5  27.0  Female        0  \n",
       "4                    -3                     5  37.0  Female        0  "
      ]
     },
     "execution_count": 2,
     "metadata": {},
     "output_type": "execute_result"
    }
   ],
   "source": [
    "df = pd.read_csv(\"data/train.csv\")\n",
    "df.head()"
   ]
  },
  {
   "cell_type": "markdown",
   "id": "e3b40e1b",
   "metadata": {},
   "source": [
    "Взглянем на таргет. Оценим дисбаланс классов."
   ]
  },
  {
   "cell_type": "code",
   "execution_count": 3,
   "id": "842aada3",
   "metadata": {
    "execution": {
     "iopub.execute_input": "2023-02-10T05:59:47.337602Z",
     "iopub.status.busy": "2023-02-10T05:59:47.336838Z",
     "iopub.status.idle": "2023-02-10T05:59:47.354002Z",
     "shell.execute_reply": "2023-02-10T05:59:47.352655Z",
     "shell.execute_reply.started": "2023-02-10T05:59:47.337558Z"
    }
   },
   "outputs": [
    {
     "data": {
      "text/plain": [
       "0    2817\n",
       "1     351\n",
       "Name: Default, dtype: int64"
      ]
     },
     "execution_count": 3,
     "metadata": {},
     "output_type": "execute_result"
    }
   ],
   "source": [
    "df['Default'].value_counts()"
   ]
  },
  {
   "cell_type": "markdown",
   "id": "339b087d",
   "metadata": {},
   "source": [
    "Дисбаланс классов на лицо. Следовательно использовать accuracy в качестве метрики было бы опрометчиво. Соответственно для оценки качества выберем метрику PR-AUC."
   ]
  },
  {
   "cell_type": "markdown",
   "id": "bc6afc81",
   "metadata": {},
   "source": [
    "### Работа с пропусками"
   ]
  },
  {
   "cell_type": "markdown",
   "id": "9cad05eb",
   "metadata": {},
   "source": [
    "Оценим кол-во пропусков в данных."
   ]
  },
  {
   "cell_type": "code",
   "execution_count": 4,
   "id": "5cadba3d",
   "metadata": {
    "execution": {
     "iopub.execute_input": "2023-02-10T05:59:47.515999Z",
     "iopub.status.busy": "2023-02-10T05:59:47.514981Z",
     "iopub.status.idle": "2023-02-10T05:59:47.524498Z",
     "shell.execute_reply": "2023-02-10T05:59:47.523061Z",
     "shell.execute_reply.started": "2023-02-10T05:59:47.515946Z"
    }
   },
   "outputs": [
    {
     "data": {
      "text/plain": [
       "(3168, 19)"
      ]
     },
     "execution_count": 4,
     "metadata": {},
     "output_type": "execute_result"
    }
   ],
   "source": [
    "df.shape"
   ]
  },
  {
   "cell_type": "code",
   "execution_count": 5,
   "id": "6021c7a7",
   "metadata": {
    "execution": {
     "iopub.execute_input": "2023-02-10T05:59:47.697219Z",
     "iopub.status.busy": "2023-02-10T05:59:47.695989Z",
     "iopub.status.idle": "2023-02-10T05:59:47.709030Z",
     "shell.execute_reply": "2023-02-10T05:59:47.707799Z",
     "shell.execute_reply.started": "2023-02-10T05:59:47.697176Z"
    }
   },
   "outputs": [
    {
     "data": {
      "text/plain": [
       "Deal_id                      0\n",
       "Deal_date                    0\n",
       "First_deal_date              0\n",
       "Secret_dwarf_info_1       2633\n",
       "Secret_dwarf_info_2       2633\n",
       "Secret_dwarf_info_3       2633\n",
       "First_default_date        2633\n",
       "Successful_deals_count      14\n",
       "Region                       7\n",
       "Tavern                       0\n",
       "Hashed_deal_detail_1         0\n",
       "Hashed_deal_detail_2         0\n",
       "Hashed_deal_detail_3         0\n",
       "Hashed_deal_detail_4         0\n",
       "Hashed_deal_detail_5         0\n",
       "Hashed_deal_detail_6         0\n",
       "Age                          0\n",
       "Gender                       0\n",
       "Default                      0\n",
       "dtype: int64"
      ]
     },
     "execution_count": 5,
     "metadata": {},
     "output_type": "execute_result"
    }
   ],
   "source": [
    "df.isna().sum()"
   ]
  },
  {
   "cell_type": "markdown",
   "id": "5a32e1bb",
   "metadata": {},
   "source": [
    "Посмотрим на пропуски информации о гномах."
   ]
  },
  {
   "cell_type": "code",
   "execution_count": 6,
   "id": "1a869e5d",
   "metadata": {
    "execution": {
     "iopub.execute_input": "2023-02-10T05:59:47.882150Z",
     "iopub.status.busy": "2023-02-10T05:59:47.881727Z",
     "iopub.status.idle": "2023-02-10T05:59:47.898162Z",
     "shell.execute_reply": "2023-02-10T05:59:47.897290Z",
     "shell.execute_reply.started": "2023-02-10T05:59:47.882114Z"
    }
   },
   "outputs": [
    {
     "data": {
      "text/plain": [
       "Secret_dwarf_info_1    8\n",
       "Secret_dwarf_info_2    6\n",
       "Secret_dwarf_info_3    4\n",
       "dtype: int64"
      ]
     },
     "execution_count": 6,
     "metadata": {},
     "output_type": "execute_result"
    }
   ],
   "source": [
    "df[['Secret_dwarf_info_1','Secret_dwarf_info_2', 'Secret_dwarf_info_3']].nunique()"
   ]
  },
  {
   "cell_type": "markdown",
   "id": "d34d08e7",
   "metadata": {},
   "source": [
    "Исходя из столь малого кол-ва уникальных значений, несмотря на числовые значения можно сделать предположение что это категориальные признаки и заполнить пропуски наиболее часто встречающимся значением. И далее попробовать работать с данными фичами как с категориальными, возможно это положительно скажется на качестве."
   ]
  },
  {
   "cell_type": "code",
   "execution_count": 7,
   "id": "ba0b21d1",
   "metadata": {
    "execution": {
     "iopub.execute_input": "2023-02-10T05:59:48.029359Z",
     "iopub.status.busy": "2023-02-10T05:59:48.028499Z",
     "iopub.status.idle": "2023-02-10T05:59:48.039112Z",
     "shell.execute_reply": "2023-02-10T05:59:48.037881Z",
     "shell.execute_reply.started": "2023-02-10T05:59:48.029321Z"
    }
   },
   "outputs": [
    {
     "data": {
      "text/plain": [
       "3.5    384\n",
       "4.5     89\n",
       "5.5     39\n",
       "6.5     11\n",
       "2.5      4\n",
       "7.5      4\n",
       "8.5      3\n",
       "9.5      1\n",
       "Name: Secret_dwarf_info_1, dtype: int64"
      ]
     },
     "execution_count": 7,
     "metadata": {},
     "output_type": "execute_result"
    }
   ],
   "source": [
    "df['Secret_dwarf_info_1'].value_counts()"
   ]
  },
  {
   "cell_type": "code",
   "execution_count": 8,
   "id": "46481ae0",
   "metadata": {
    "execution": {
     "iopub.execute_input": "2023-02-10T05:59:48.494301Z",
     "iopub.status.busy": "2023-02-10T05:59:48.493916Z",
     "iopub.status.idle": "2023-02-10T05:59:48.506267Z",
     "shell.execute_reply": "2023-02-10T05:59:48.505265Z",
     "shell.execute_reply.started": "2023-02-10T05:59:48.494270Z"
    }
   },
   "outputs": [],
   "source": [
    "popular_info_1 = df['Secret_dwarf_info_1'].value_counts().index[0]\n",
    "df['Secret_dwarf_info_1'] = df['Secret_dwarf_info_1'].fillna(popular_info_1)"
   ]
  },
  {
   "cell_type": "markdown",
   "id": "727efcf2",
   "metadata": {},
   "source": [
    "Для фичи 'Secret_dwarf_info_2' примерно равное кол-во двух наиболее часто встречающихся значений. Попробуем заполнить пропуски данной колонки из сгенерированных случайным образом последовательности из этих двух значений."
   ]
  },
  {
   "cell_type": "code",
   "execution_count": 9,
   "id": "b92ef128",
   "metadata": {
    "execution": {
     "iopub.execute_input": "2023-02-10T05:59:48.629842Z",
     "iopub.status.busy": "2023-02-10T05:59:48.629225Z",
     "iopub.status.idle": "2023-02-10T05:59:48.638773Z",
     "shell.execute_reply": "2023-02-10T05:59:48.637683Z",
     "shell.execute_reply.started": "2023-02-10T05:59:48.629805Z"
    }
   },
   "outputs": [
    {
     "data": {
      "text/plain": [
       "-2.0    243\n",
       "-3.0    232\n",
       "-1.0     51\n",
       " 0.0      7\n",
       " 2.0      1\n",
       " 1.0      1\n",
       "Name: Secret_dwarf_info_2, dtype: int64"
      ]
     },
     "execution_count": 9,
     "metadata": {},
     "output_type": "execute_result"
    }
   ],
   "source": [
    "df['Secret_dwarf_info_2'].value_counts()"
   ]
  },
  {
   "cell_type": "code",
   "execution_count": 10,
   "id": "d0ca84d7",
   "metadata": {
    "execution": {
     "iopub.execute_input": "2023-02-10T05:59:48.747257Z",
     "iopub.status.busy": "2023-02-10T05:59:48.746283Z",
     "iopub.status.idle": "2023-02-10T05:59:48.753420Z",
     "shell.execute_reply": "2023-02-10T05:59:48.752292Z",
     "shell.execute_reply.started": "2023-02-10T05:59:48.747216Z"
    }
   },
   "outputs": [],
   "source": [
    "info_2 = pd.Series(np.random.randint(-3, -1, df.shape[0]))\n",
    "df['Secret_dwarf_info_2'] = df['Secret_dwarf_info_2'].fillna(info_2)"
   ]
  },
  {
   "cell_type": "code",
   "execution_count": 11,
   "id": "d15d6895",
   "metadata": {
    "execution": {
     "iopub.execute_input": "2023-02-10T05:59:48.908681Z",
     "iopub.status.busy": "2023-02-10T05:59:48.908217Z",
     "iopub.status.idle": "2023-02-10T05:59:48.917149Z",
     "shell.execute_reply": "2023-02-10T05:59:48.916009Z",
     "shell.execute_reply.started": "2023-02-10T05:59:48.908641Z"
    }
   },
   "outputs": [
    {
     "data": {
      "text/plain": [
       "5.0    405\n",
       "6.0    118\n",
       "7.0     11\n",
       "8.0      1\n",
       "Name: Secret_dwarf_info_3, dtype: int64"
      ]
     },
     "execution_count": 11,
     "metadata": {},
     "output_type": "execute_result"
    }
   ],
   "source": [
    "df['Secret_dwarf_info_3'].value_counts()"
   ]
  },
  {
   "cell_type": "markdown",
   "id": "7b3433e8",
   "metadata": {},
   "source": [
    "df.dtypesДля фичи 'Secret_dwarf_info_3' поступим аналогично 'Secret_dwarf_info_1'."
   ]
  },
  {
   "cell_type": "code",
   "execution_count": 12,
   "id": "ae0022eb",
   "metadata": {
    "execution": {
     "iopub.execute_input": "2023-02-10T05:59:49.065962Z",
     "iopub.status.busy": "2023-02-10T05:59:49.065553Z",
     "iopub.status.idle": "2023-02-10T05:59:49.072758Z",
     "shell.execute_reply": "2023-02-10T05:59:49.071892Z",
     "shell.execute_reply.started": "2023-02-10T05:59:49.065928Z"
    }
   },
   "outputs": [],
   "source": [
    "popular_info_3 = df['Secret_dwarf_info_3'].value_counts().index[0]\n",
    "df['Secret_dwarf_info_3'] = df['Secret_dwarf_info_3'].fillna(popular_info_3)"
   ]
  },
  {
   "cell_type": "markdown",
   "id": "d1c29036",
   "metadata": {},
   "source": [
    "Прежде чем придумывать как осмысленно заполнить пропуски колонки 'First_default_date'. Стоит понять а должны ли быть в принципе какие либо значения в данной колонке. Каждый заказ относится к какому то конкретному гному, если в колонке 'First_default_date' стоит значение, это значит что гном, которому принадлежал данный заказ - дефолтил когда либо в принципе, соответственно заполнив пропуски данной колонки(предидущим, последующим или самым часто встречающимся значением) - мы заведомо того не зная, внесем в данные информацию в которой нет уверенности, также интуитивно кажется, что таргет дефолтнет покупка или нет зависит скорее от параметров гнома и покупки, нежели от даты первого дефолта, несмотря на то что данная фича говорит нам о важном факторе дефолтил ли когда либо данный гном или нет. Тогда стоит попробовать идентифицировать гномов через поиск похожих и присваивая дату первого дефолта похожим объектам."
   ]
  },
  {
   "cell_type": "code",
   "execution_count": 13,
   "id": "64852dce",
   "metadata": {
    "execution": {
     "iopub.execute_input": "2023-02-10T05:59:49.239387Z",
     "iopub.status.busy": "2023-02-10T05:59:49.238259Z",
     "iopub.status.idle": "2023-02-10T05:59:49.249462Z",
     "shell.execute_reply": "2023-02-10T05:59:49.248170Z",
     "shell.execute_reply.started": "2023-02-10T05:59:49.239346Z"
    }
   },
   "outputs": [],
   "source": [
    "df['First_default_date'] = pd.to_datetime(df['First_default_date'])"
   ]
  },
  {
   "cell_type": "markdown",
   "id": "ad6123c6",
   "metadata": {},
   "source": [
    "Кажется крайне строгим и жестким присваивать дату(факт того что гном дефолтил когда-либо) по похожести исходя из условия что гном принадлежит сразу нескольким категориям, в том числе по возрасту. Так например по данным ниже мы можем увидеть что в Tavern_district_0, таверне 7, гендера Female, гномов в возрасте 21 год - 6 гномов, об этом говорит разная дата первого заказа."
   ]
  },
  {
   "cell_type": "code",
   "execution_count": 14,
   "id": "2ded90ba",
   "metadata": {
    "execution": {
     "iopub.execute_input": "2023-02-10T05:59:49.395645Z",
     "iopub.status.busy": "2023-02-10T05:59:49.395246Z",
     "iopub.status.idle": "2023-02-10T05:59:49.413279Z",
     "shell.execute_reply": "2023-02-10T05:59:49.412132Z",
     "shell.execute_reply.started": "2023-02-10T05:59:49.395613Z"
    }
   },
   "outputs": [
    {
     "data": {
      "text/plain": [
       "Region             Tavern  Gender  Age \n",
       "Tavern_district_0  7       Female  20.0    2\n",
       "                                   21.0    6\n",
       "                                   22.0    4\n",
       "                                   23.0    6\n",
       "                                   24.0    3\n",
       "                                          ..\n",
       "Tavern_district_7  27      Female  40.0    1\n",
       "                                   45.0    1\n",
       "                                   54.0    1\n",
       "                           Male    41.0    1\n",
       "                                   42.0    1\n",
       "Name: First_deal_date, Length: 1331, dtype: int64"
      ]
     },
     "execution_count": 14,
     "metadata": {},
     "output_type": "execute_result"
    }
   ],
   "source": [
    "df.groupby(['Region', \n",
    "            'Tavern',\n",
    "            'Gender', \n",
    "            'Age'])['First_deal_date'].nunique()"
   ]
  },
  {
   "cell_type": "markdown",
   "id": "59d9236d",
   "metadata": {},
   "source": [
    "В то же время группируя по тем же категориям мы видим что дефолтящих гномов(по факту наличия даты первого дефолта) меньше чем в принципе гномов принадлежащих конкретному набору категорий. Таким образом если мы будем присваивать всем гномам соответсвующим конкретным наборам категорий дату первого дефолта(маркер того дефолтили они или нет) - мы можем сильно испортить данные."
   ]
  },
  {
   "cell_type": "code",
   "execution_count": 15,
   "id": "96cc4db6",
   "metadata": {
    "execution": {
     "iopub.execute_input": "2023-02-10T05:59:49.555539Z",
     "iopub.status.busy": "2023-02-10T05:59:49.555120Z",
     "iopub.status.idle": "2023-02-10T05:59:49.572051Z",
     "shell.execute_reply": "2023-02-10T05:59:49.570862Z",
     "shell.execute_reply.started": "2023-02-10T05:59:49.555504Z"
    }
   },
   "outputs": [
    {
     "data": {
      "text/plain": [
       "Region             Tavern  Gender  Age \n",
       "Tavern_district_0  7       Female  20.0    1\n",
       "                                   21.0    2\n",
       "                                   22.0    1\n",
       "                                   23.0    3\n",
       "                                   24.0    2\n",
       "                                          ..\n",
       "Tavern_district_7  27      Female  40.0    0\n",
       "                                   45.0    0\n",
       "                                   54.0    0\n",
       "                           Male    41.0    0\n",
       "                                   42.0    0\n",
       "Name: First_default_date, Length: 1331, dtype: int64"
      ]
     },
     "execution_count": 15,
     "metadata": {},
     "output_type": "execute_result"
    }
   ],
   "source": [
    "df.groupby(['Region', \n",
    "            'Tavern',\n",
    "            'Gender', \n",
    "            'Age'])['First_default_date'].nunique()"
   ]
  },
  {
   "cell_type": "markdown",
   "id": "636eb53d",
   "metadata": {},
   "source": [
    "Но мы можем заполнить даты дефолта только тем гномам кто точно когда-то дефолтил - проведем поиск похожих среди тех у кого заказ дефолтил."
   ]
  },
  {
   "cell_type": "code",
   "execution_count": 16,
   "id": "c4a831a2",
   "metadata": {
    "execution": {
     "iopub.execute_input": "2023-02-10T05:59:49.711407Z",
     "iopub.status.busy": "2023-02-10T05:59:49.711012Z",
     "iopub.status.idle": "2023-02-10T05:59:49.724619Z",
     "shell.execute_reply": "2023-02-10T05:59:49.723347Z",
     "shell.execute_reply.started": "2023-02-10T05:59:49.711376Z"
    }
   },
   "outputs": [],
   "source": [
    "grouped_means = df[df['Default']==1].groupby(['Region', \n",
    "                              'Tavern',\n",
    "                              'Gender', \n",
    "                              'Age'])['First_default_date'].transform('max')"
   ]
  },
  {
   "cell_type": "code",
   "execution_count": 17,
   "id": "6a7e85a0",
   "metadata": {
    "execution": {
     "iopub.execute_input": "2023-02-10T05:59:49.875656Z",
     "iopub.status.busy": "2023-02-10T05:59:49.875269Z",
     "iopub.status.idle": "2023-02-10T05:59:49.885042Z",
     "shell.execute_reply": "2023-02-10T05:59:49.883841Z",
     "shell.execute_reply.started": "2023-02-10T05:59:49.875626Z"
    }
   },
   "outputs": [
    {
     "data": {
      "text/plain": [
       "1      2016-07-30\n",
       "5             NaT\n",
       "10            NaT\n",
       "16     2015-08-30\n",
       "18            NaT\n",
       "          ...    \n",
       "3140   2016-01-15\n",
       "3145   2015-11-13\n",
       "3154          NaT\n",
       "3158   2016-07-30\n",
       "3165          NaT\n",
       "Name: First_default_date, Length: 351, dtype: datetime64[ns]"
      ]
     },
     "execution_count": 17,
     "metadata": {},
     "output_type": "execute_result"
    }
   ],
   "source": [
    "grouped_means"
   ]
  },
  {
   "cell_type": "code",
   "execution_count": 18,
   "id": "a8753a5b",
   "metadata": {
    "execution": {
     "iopub.execute_input": "2023-02-10T05:59:50.144613Z",
     "iopub.status.busy": "2023-02-10T05:59:50.144215Z",
     "iopub.status.idle": "2023-02-10T05:59:50.153548Z",
     "shell.execute_reply": "2023-02-10T05:59:50.152319Z",
     "shell.execute_reply.started": "2023-02-10T05:59:50.144581Z"
    }
   },
   "outputs": [],
   "source": [
    "df.loc[df['Default']==1,'First_default_date'] = df[df['Default']==1]['First_default_date'].fillna(grouped_means)"
   ]
  },
  {
   "cell_type": "markdown",
   "id": "46cf8f52",
   "metadata": {},
   "source": [
    "Также выставим в данной колонке 1 - факт того что данный гном когда-либо дефолтил если таргет равен 1. Остальные NaN примем за то что данный гном никогда не дефолтил."
   ]
  },
  {
   "cell_type": "code",
   "execution_count": 19,
   "id": "156f54fc",
   "metadata": {
    "execution": {
     "iopub.execute_input": "2023-02-10T05:59:50.440027Z",
     "iopub.status.busy": "2023-02-10T05:59:50.439651Z",
     "iopub.status.idle": "2023-02-10T05:59:50.453167Z",
     "shell.execute_reply": "2023-02-10T05:59:50.451948Z",
     "shell.execute_reply.started": "2023-02-10T05:59:50.439997Z"
    }
   },
   "outputs": [],
   "source": [
    "df.loc[df['Default']!=0,'First_default_date'] = 1"
   ]
  },
  {
   "cell_type": "code",
   "execution_count": 20,
   "id": "319abb59",
   "metadata": {
    "execution": {
     "iopub.execute_input": "2023-02-10T05:59:50.550071Z",
     "iopub.status.busy": "2023-02-10T05:59:50.549664Z",
     "iopub.status.idle": "2023-02-10T05:59:50.560322Z",
     "shell.execute_reply": "2023-02-10T05:59:50.559543Z",
     "shell.execute_reply.started": "2023-02-10T05:59:50.550034Z"
    }
   },
   "outputs": [
    {
     "data": {
      "text/plain": [
       "Deal_id                      0\n",
       "Deal_date                    0\n",
       "First_deal_date              0\n",
       "Secret_dwarf_info_1          0\n",
       "Secret_dwarf_info_2          0\n",
       "Secret_dwarf_info_3          0\n",
       "First_default_date        2398\n",
       "Successful_deals_count      14\n",
       "Region                       7\n",
       "Tavern                       0\n",
       "Hashed_deal_detail_1         0\n",
       "Hashed_deal_detail_2         0\n",
       "Hashed_deal_detail_3         0\n",
       "Hashed_deal_detail_4         0\n",
       "Hashed_deal_detail_5         0\n",
       "Hashed_deal_detail_6         0\n",
       "Age                          0\n",
       "Gender                       0\n",
       "Default                      0\n",
       "dtype: int64"
      ]
     },
     "execution_count": 20,
     "metadata": {},
     "output_type": "execute_result"
    }
   ],
   "source": [
    "df.isna().sum()"
   ]
  },
  {
   "cell_type": "markdown",
   "id": "5e7c6b76",
   "metadata": {},
   "source": [
    "Можно заметить что все равно осталось достаточно много пропусков данной колонки. Таким образом не получится использовать ее для построения модели, более того мы не будем знать заранее таргетную переменную на входящих объектов. И заполнять пропуски смотря на таргет не получится."
   ]
  },
  {
   "cell_type": "markdown",
   "id": "8e506c34",
   "metadata": {},
   "source": [
    "Удалим объекты с пропущеными значениями в колонке 'Successful_deals_count' и 'Region' так как их крайне мало."
   ]
  },
  {
   "cell_type": "code",
   "execution_count": 21,
   "id": "99de5b65",
   "metadata": {
    "execution": {
     "iopub.execute_input": "2023-02-10T05:59:50.626232Z",
     "iopub.status.busy": "2023-02-10T05:59:50.625118Z",
     "iopub.status.idle": "2023-02-10T05:59:50.636238Z",
     "shell.execute_reply": "2023-02-10T05:59:50.634877Z",
     "shell.execute_reply.started": "2023-02-10T05:59:50.626192Z"
    }
   },
   "outputs": [],
   "source": [
    "df = df.dropna(subset=['Successful_deals_count', 'Region'])"
   ]
  },
  {
   "cell_type": "markdown",
   "id": "f3420411",
   "metadata": {},
   "source": [
    "### EDA"
   ]
  },
  {
   "cell_type": "code",
   "execution_count": 22,
   "id": "87312ff6",
   "metadata": {
    "execution": {
     "iopub.execute_input": "2023-02-10T05:59:50.756731Z",
     "iopub.status.busy": "2023-02-10T05:59:50.756313Z",
     "iopub.status.idle": "2023-02-10T05:59:50.764058Z",
     "shell.execute_reply": "2023-02-10T05:59:50.763222Z",
     "shell.execute_reply.started": "2023-02-10T05:59:50.756694Z"
    }
   },
   "outputs": [],
   "source": [
    "import matplotlib as mlp\n",
    "\n",
    "mlp.rcParams['lines.linewidth'] = 5\n",
    "mlp.rcParams['xtick.major.size'] = 20\n",
    "mlp.rcParams['xtick.major.width'] = 5\n",
    "mlp.rcParams['xtick.labelsize'] = 20\n",
    "mlp.rcParams['xtick.color'] = '#FF5533'\n",
    "\n",
    "mlp.rcParams['ytick.major.size'] = 20\n",
    "mlp.rcParams['ytick.major.width'] = 5\n",
    "mlp.rcParams['ytick.labelsize'] = 20\n",
    "mlp.rcParams['ytick.color'] = '#FF5533'\n",
    "\n",
    "mlp.rcParams['axes.labelsize'] = 20\n",
    "mlp.rcParams['axes.titlesize'] = 20\n",
    "mlp.rcParams['axes.titlecolor'] = '#00B050'\n",
    "mlp.rcParams['axes.labelcolor'] = '#00B050'"
   ]
  },
  {
   "cell_type": "markdown",
   "id": "0503eee5",
   "metadata": {},
   "source": [
    "Так как уникальных значений в большинстве не так много, попробуем принять их как категориальные фичи и построить модель, возможно это даст хороший резульат. Но сперва убедимся что фичи имеют разное распределение в зависимости от таргетной переменной и вносить весомый вклад в построение модели."
   ]
  },
  {
   "cell_type": "code",
   "execution_count": 23,
   "id": "f911e397",
   "metadata": {
    "execution": {
     "iopub.execute_input": "2023-02-10T05:59:50.967307Z",
     "iopub.status.busy": "2023-02-10T05:59:50.966263Z",
     "iopub.status.idle": "2023-02-10T05:59:51.869301Z",
     "shell.execute_reply": "2023-02-10T05:59:51.868007Z",
     "shell.execute_reply.started": "2023-02-10T05:59:50.967266Z"
    }
   },
   "outputs": [
    {
     "data": {
      "image/png": "[encoded data removed]",
      "text/plain": [
       "<Figure size 1152x720 with 1 Axes>"
      ]
     },
     "metadata": {
      "needs_background": "dark"
     },
     "output_type": "display_data"
    }
   ],
   "source": [
    "import matplotlib.pyplot as plt\n",
    "import seaborn as sns\n",
    "\n",
    "\n",
    "fig = plt.figure()\n",
    "fig.set_size_inches(16, 10)\n",
    "    \n",
    "sns.boxplot(y=df['Age'], x=df['Default'].astype('category'), data=df)\n",
    "    \n",
    "plt.show()"
   ]
  },
  {
   "cell_type": "code",
   "execution_count": 24,
   "id": "513e592c",
   "metadata": {
    "execution": {
     "iopub.execute_input": "2023-02-10T05:59:51.871484Z",
     "iopub.status.busy": "2023-02-10T05:59:51.871130Z",
     "iopub.status.idle": "2023-02-10T05:59:57.542870Z",
     "shell.execute_reply": "2023-02-10T05:59:57.541675Z",
     "shell.execute_reply.started": "2023-02-10T05:59:51.871453Z"
    }
   },
   "outputs": [
    {
     "data": {
      "image/png": "[encoded data removed]",
      "text/plain": [
       "<Figure size 720x360 with 2 Axes>"
      ]
     },
     "metadata": {
      "needs_background": "dark"
     },
     "output_type": "display_data"
    },
    {
     "data": {
      "image/png": "[encoded data removed]",
      "text/plain": [
       "<Figure size 720x360 with 2 Axes>"
      ]
     },
     "metadata": {
      "needs_background": "dark"
     },
     "output_type": "display_data"
    },
    {
     "data": {
      "image/png": "[encoded data removed]",
      "text/plain": [
       "<Figure size 720x360 with 2 Axes>"
      ]
     },
     "metadata": {
      "needs_background": "dark"
     },
     "output_type": "display_data"
    },
    {
     "data": {
      "image/png": "[encoded data removed]",
      "text/plain": [
       "<Figure size 720x360 with 2 Axes>"
      ]
     },
     "metadata": {
      "needs_background": "dark"
     },
     "output_type": "display_data"
    },
    {
     "data": {
      "image/png": "[encoded data removed]",
      "text/plain": [
       "<Figure size 720x360 with 2 Axes>"
      ]
     },
     "metadata": {
      "needs_background": "dark"
     },
     "output_type": "display_data"
    },
    {
     "data": {
      "image/png": "[encoded data removed]",
      "text/plain": [
       "<Figure size 720x360 with 2 Axes>"
      ]
     },
     "metadata": {
      "needs_background": "dark"
     },
     "output_type": "display_data"
    },
    {
     "data": {
      "image/png": "[encoded data removed]",
      "text/plain": [
       "<Figure size 720x360 with 2 Axes>"
      ]
     },
     "metadata": {
      "needs_background": "dark"
     },
     "output_type": "display_data"
    },
    {
     "data": {
      "image/png": "[encoded data removed]",
      "text/plain": [
       "<Figure size 720x360 with 2 Axes>"
      ]
     },
     "metadata": {
      "needs_background": "dark"
     },
     "output_type": "display_data"
    },
    {
     "data": {
      "image/png": "[encoded data removed]",
      "text/plain": [
       "<Figure size 720x360 with 2 Axes>"
      ]
     },
     "metadata": {
      "needs_background": "dark"
     },
     "output_type": "display_data"
    },
    {
     "data": {
      "image/png": "[encoded data removed]",
      "text/plain": [
       "<Figure size 720x360 with 2 Axes>"
      ]
     },
     "metadata": {
      "needs_background": "dark"
     },
     "output_type": "display_data"
    },
    {
     "data": {
      "image/png": "[encoded data removed]",
      "text/plain": [
       "<Figure size 720x360 with 2 Axes>"
      ]
     },
     "metadata": {
      "needs_background": "dark"
     },
     "output_type": "display_data"
    },
    {
     "data": {
      "image/png": "[encoded data removed]",
      "text/plain": [
       "<Figure size 720x360 with 2 Axes>"
      ]
     },
     "metadata": {
      "needs_background": "dark"
     },
     "output_type": "display_data"
    },
    {
     "data": {
      "image/png": "[encoded data removed]",
      "text/plain": [
       "<Figure size 720x360 with 2 Axes>"
      ]
     },
     "metadata": {
      "needs_background": "dark"
     },
     "output_type": "display_data"
    }
   ],
   "source": [
    "categorical_columns = ['Secret_dwarf_info_1', 'Secret_dwarf_info_2', 'Secret_dwarf_info_3',\n",
    "       'Successful_deals_count', 'Region', 'Tavern', 'Hashed_deal_detail_1', \n",
    "       'Hashed_deal_detail_2', 'Hashed_deal_detail_3', 'Hashed_deal_detail_4', \n",
    "       'Hashed_deal_detail_5', 'Hashed_deal_detail_6', 'Gender']\n",
    "\n",
    "### Гистограммы распределений в разных классах\n",
    "\n",
    "for col in categorical_columns:\n",
    "    g = sns.catplot(x=col, kind='count', col='Default', data=df, sharey=False)\n",
    "    g.set_xticklabels(rotation=60)"
   ]
  },
  {
   "cell_type": "markdown",
   "id": "29eab7fe",
   "metadata": {},
   "source": [
    "Из гистограм распределений видно что признак 'Hashed_deal_detail_6' константный, избавимся от него. Также можно заметить что распределения признаков 'Hashed_deal_detail_1' и 'Hashed_deal_detail_5' крайне похожи. Проверим их на квазиконстрантность."
   ]
  },
  {
   "cell_type": "code",
   "execution_count": 25,
   "id": "03168b21",
   "metadata": {
    "execution": {
     "iopub.execute_input": "2023-02-10T05:59:57.545377Z",
     "iopub.status.busy": "2023-02-10T05:59:57.544388Z",
     "iopub.status.idle": "2023-02-10T05:59:57.549878Z",
     "shell.execute_reply": "2023-02-10T05:59:57.548767Z",
     "shell.execute_reply.started": "2023-02-10T05:59:57.545337Z"
    }
   },
   "outputs": [],
   "source": [
    "numeric_columns = ['Hashed_deal_detail_1', 'Hashed_deal_detail_5', 'Age']"
   ]
  },
  {
   "cell_type": "code",
   "execution_count": 26,
   "id": "26a4232a",
   "metadata": {
    "execution": {
     "iopub.execute_input": "2023-02-10T05:59:57.553502Z",
     "iopub.status.busy": "2023-02-10T05:59:57.553144Z",
     "iopub.status.idle": "2023-02-10T05:59:57.844693Z",
     "shell.execute_reply": "2023-02-10T05:59:57.843668Z",
     "shell.execute_reply.started": "2023-02-10T05:59:57.553454Z"
    }
   },
   "outputs": [
    {
     "data": {
      "text/plain": [
       "array(['Age'], dtype=object)"
      ]
     },
     "execution_count": 26,
     "metadata": {},
     "output_type": "execute_result"
    }
   ],
   "source": [
    "### Посмотрим на квазиконстантые признаки\n",
    "\n",
    "from sklearn.feature_selection import VarianceThreshold\n",
    "\n",
    "\n",
    "cutter = VarianceThreshold(threshold=0.2)\n",
    "cutter.fit(df[numeric_columns])\n",
    "\n",
    "cutter.get_feature_names_out()"
   ]
  },
  {
   "cell_type": "code",
   "execution_count": 27,
   "id": "ffbace1f",
   "metadata": {
    "execution": {
     "iopub.execute_input": "2023-02-10T05:59:57.846722Z",
     "iopub.status.busy": "2023-02-10T05:59:57.846277Z",
     "iopub.status.idle": "2023-02-10T05:59:57.854187Z",
     "shell.execute_reply": "2023-02-10T05:59:57.853034Z",
     "shell.execute_reply.started": "2023-02-10T05:59:57.846674Z"
    }
   },
   "outputs": [],
   "source": [
    "df = df.drop(['Deal_id', 'Deal_date', 'First_deal_date', 'First_default_date',\n",
    "         'Hashed_deal_detail_1', 'Hashed_deal_detail_5', 'Hashed_deal_detail_6'], axis = 1)"
   ]
  },
  {
   "cell_type": "markdown",
   "id": "3b494374",
   "metadata": {},
   "source": [
    "Закодируем категориальные фичи с помощью one-hot, так как категорий не очень много то закодируем целиком, без использования счетчиков."
   ]
  },
  {
   "cell_type": "code",
   "execution_count": 28,
   "id": "ae062a8e",
   "metadata": {
    "execution": {
     "iopub.execute_input": "2023-02-10T05:59:57.857011Z",
     "iopub.status.busy": "2023-02-10T05:59:57.856195Z",
     "iopub.status.idle": "2023-02-10T05:59:57.898956Z",
     "shell.execute_reply": "2023-02-10T05:59:57.898155Z",
     "shell.execute_reply.started": "2023-02-10T05:59:57.856960Z"
    }
   },
   "outputs": [],
   "source": [
    "categorical_columns = ['Secret_dwarf_info_1', 'Secret_dwarf_info_2', 'Secret_dwarf_info_3',\n",
    "       'Successful_deals_count', 'Region', 'Tavern', 'Hashed_deal_detail_2', \n",
    "       'Hashed_deal_detail_3', 'Hashed_deal_detail_4', 'Gender']\n",
    "\n",
    "for col in categorical_columns:\n",
    "    one_hot = pd.get_dummies(df[col], prefix=col, drop_first=True)\n",
    "    df = pd.concat((df.drop(col, axis=1), one_hot), axis=1)"
   ]
  },
  {
   "cell_type": "markdown",
   "id": "3e3a24ef",
   "metadata": {
    "execution": {
     "iopub.execute_input": "2023-02-07T11:21:41.921457Z",
     "iopub.status.busy": "2023-02-07T11:21:41.920269Z",
     "iopub.status.idle": "2023-02-07T11:21:41.926752Z",
     "shell.execute_reply": "2023-02-07T11:21:41.925349Z",
     "shell.execute_reply.started": "2023-02-07T11:21:41.921404Z"
    }
   },
   "source": [
    "### Построим базовую модель в качестве бейзлайна."
   ]
  },
  {
   "cell_type": "markdown",
   "id": "30b115a4",
   "metadata": {},
   "source": [
    "Используем стратифицированное разделение в силу дизбаланса классов.\n",
    "\n",
    "Делается для того чтобы в тестовую выборку попало достаточное кол-во объектов класса 1 чтобы была возможность оценить качество модели. Также если на трейне у нас случайно не окажется объектов 1 класса, мы не сможем определить их на тесте. От этого будет страдать обобщающая способность модели. Стратификация позволяет сделать распределение таргетов в трейне и тесте таким, каким оно примерно является в общей совокупности.\n",
    "\n",
    "Убедимся, что действительно и в трейне, и в тесте схожая доля каждой тары."
   ]
  },
  {
   "cell_type": "code",
   "execution_count": 29,
   "id": "428b9a7a",
   "metadata": {
    "execution": {
     "iopub.execute_input": "2023-02-10T05:59:57.901560Z",
     "iopub.status.busy": "2023-02-10T05:59:57.900755Z",
     "iopub.status.idle": "2023-02-10T05:59:57.916947Z",
     "shell.execute_reply": "2023-02-10T05:59:57.915656Z",
     "shell.execute_reply.started": "2023-02-10T05:59:57.901516Z"
    }
   },
   "outputs": [],
   "source": [
    "from sklearn.pipeline import Pipeline\n",
    "from sklearn.linear_model import LogisticRegression\n",
    "from sklearn.model_selection import train_test_split\n",
    "from sklearn.preprocessing import StandardScaler\n",
    "\n",
    "\n",
    "df_train, df_test = train_test_split(\n",
    "    df,\n",
    "    test_size=0.1,\n",
    "    stratify=df['Default']\n",
    ")\n",
    "\n",
    "pipeline_baseline = Pipeline([('scaler', StandardScaler()),\n",
    "                             ('LR', LogisticRegression(penalty='none'))])"
   ]
  },
  {
   "cell_type": "code",
   "execution_count": 30,
   "id": "0ff936cf",
   "metadata": {
    "execution": {
     "iopub.execute_input": "2023-02-10T05:59:57.919331Z",
     "iopub.status.busy": "2023-02-10T05:59:57.918633Z",
     "iopub.status.idle": "2023-02-10T05:59:57.937906Z",
     "shell.execute_reply": "2023-02-10T05:59:57.936769Z",
     "shell.execute_reply.started": "2023-02-10T05:59:57.919297Z"
    }
   },
   "outputs": [
    {
     "data": {
      "text/html": [
       "<div>\n",
       "<style scoped>\n",
       "    .dataframe tbody tr th:only-of-type {\n",
       "        vertical-align: middle;\n",
       "    }\n",
       "\n",
       "    .dataframe tbody tr th {\n",
       "        vertical-align: top;\n",
       "    }\n",
       "\n",
       "    .dataframe thead th {\n",
       "        text-align: right;\n",
       "    }\n",
       "</style>\n",
       "<table border=\"1\" class=\"dataframe\">\n",
       "  <thead>\n",
       "    <tr style=\"text-align: right;\">\n",
       "      <th></th>\n",
       "      <th>Доля в трейне</th>\n",
       "      <th>Доля в тесте</th>\n",
       "      <th>Абсолютная разница</th>\n",
       "    </tr>\n",
       "  </thead>\n",
       "  <tbody>\n",
       "    <tr>\n",
       "      <th>0</th>\n",
       "      <td>0.890184</td>\n",
       "      <td>0.888889</td>\n",
       "      <td>0.001295</td>\n",
       "    </tr>\n",
       "    <tr>\n",
       "      <th>1</th>\n",
       "      <td>0.109816</td>\n",
       "      <td>0.111111</td>\n",
       "      <td>0.001295</td>\n",
       "    </tr>\n",
       "  </tbody>\n",
       "</table>\n",
       "</div>"
      ],
      "text/plain": [
       "   Доля в трейне  Доля в тесте  Абсолютная разница\n",
       "0       0.890184      0.888889            0.001295\n",
       "1       0.109816      0.111111            0.001295"
      ]
     },
     "execution_count": 30,
     "metadata": {},
     "output_type": "execute_result"
    }
   ],
   "source": [
    "train_shares = df_train['Default'].value_counts() / df_train.shape[0]\n",
    "test_shares = df_test['Default'].value_counts() / df_test.shape[0]\n",
    "\n",
    "to_compare = pd.concat((train_shares, test_shares), axis=1)\n",
    "to_compare.columns = ['Доля в трейне', 'Доля в тесте']\n",
    "to_compare['Абсолютная разница'] = (to_compare['Доля в трейне'] - \\\n",
    "                                    to_compare['Доля в тесте']).abs()\n",
    "\n",
    "to_compare"
   ]
  },
  {
   "cell_type": "code",
   "execution_count": 31,
   "id": "ddd53ead",
   "metadata": {
    "execution": {
     "iopub.execute_input": "2023-02-10T05:59:57.939549Z",
     "iopub.status.busy": "2023-02-10T05:59:57.939236Z",
     "iopub.status.idle": "2023-02-10T05:59:58.106527Z",
     "shell.execute_reply": "2023-02-10T05:59:58.105355Z",
     "shell.execute_reply.started": "2023-02-10T05:59:57.939513Z"
    }
   },
   "outputs": [
    {
     "name": "stdout",
     "output_type": "stream",
     "text": [
      "Accuracy на тренировочной выборке составило 0.892\n",
      "Accuracy на тестовой выборке составило 0.892\n"
     ]
    }
   ],
   "source": [
    "pipeline_baseline.fit(\n",
    "    df_train.drop('Default', axis = 1),\n",
    "    df_train['Default']\n",
    ")\n",
    "\n",
    "train_preds = pipeline_baseline.predict(df_train.drop('Default', axis = 1)) \n",
    "train_accuracy = np.mean(train_preds == df_train['Default'].values)\n",
    "\n",
    "test_preds = pipeline_baseline.predict(df_test.drop('Default', axis = 1)) \n",
    "test_accuracy = np.mean(test_preds == df_test['Default'].values)\n",
    "\n",
    "print(f\"Accuracy на тренировочной выборке составило {np.round(train_accuracy, decimals=3)}\")\n",
    "print(f\"Accuracy на тестовой выборке составило {np.round(test_accuracy, decimals=3)}\")"
   ]
  },
  {
   "cell_type": "markdown",
   "id": "12c94699",
   "metadata": {},
   "source": [
    "Но оценивать модель по Accuracy при дисбалансе классов некорректно, дав константное предстказание мы получим ту же Accuracy. Воспользуемся метрикой PR-AUC для оценки обобщающей способности."
   ]
  },
  {
   "cell_type": "code",
   "execution_count": 32,
   "id": "1b4b8488",
   "metadata": {
    "execution": {
     "iopub.execute_input": "2023-02-10T05:59:58.113706Z",
     "iopub.status.busy": "2023-02-10T05:59:58.112494Z",
     "iopub.status.idle": "2023-02-10T05:59:58.141334Z",
     "shell.execute_reply": "2023-02-10T05:59:58.139649Z",
     "shell.execute_reply.started": "2023-02-10T05:59:58.113623Z"
    }
   },
   "outputs": [
    {
     "data": {
      "text/plain": [
       "0.6666666666666666"
      ]
     },
     "execution_count": 32,
     "metadata": {},
     "output_type": "execute_result"
    }
   ],
   "source": [
    "from sklearn.metrics import precision_score\n",
    "\n",
    "\n",
    "precision_score(df_test['Default'], pipeline_baseline.predict(df_test.drop('Default', axis = 1)))"
   ]
  },
  {
   "cell_type": "markdown",
   "id": "436d54b8",
   "metadata": {},
   "source": [
    "Достаточно неплохой precision на тестовых данных. Но PR-AUC оценит модель более обобщающе."
   ]
  },
  {
   "cell_type": "code",
   "execution_count": 33,
   "id": "2a2de80c",
   "metadata": {
    "execution": {
     "iopub.execute_input": "2023-02-10T05:59:58.145375Z",
     "iopub.status.busy": "2023-02-10T05:59:58.144185Z",
     "iopub.status.idle": "2023-02-10T05:59:58.392856Z",
     "shell.execute_reply": "2023-02-10T05:59:58.391764Z",
     "shell.execute_reply.started": "2023-02-10T05:59:58.145308Z"
    }
   },
   "outputs": [
    {
     "data": {
      "text/plain": [
       "<sklearn.metrics._plot.precision_recall_curve.PrecisionRecallDisplay at 0x7fc9db7e7f10>"
      ]
     },
     "execution_count": 33,
     "metadata": {},
     "output_type": "execute_result"
    },
    {
     "data": {
      "image/png": "[encoded data removed]",
      "text/plain": [
       "<Figure size 432x288 with 1 Axes>"
      ]
     },
     "metadata": {
      "needs_background": "dark"
     },
     "output_type": "display_data"
    }
   ],
   "source": [
    "from sklearn.metrics import PrecisionRecallDisplay\n",
    "\n",
    "PrecisionRecallDisplay.from_estimator(pipeline_baseline, df_test.drop('Default', axis = 1), df_test['Default'])"
   ]
  },
  {
   "cell_type": "markdown",
   "id": "6aee0194",
   "metadata": {},
   "source": [
    "Судя по PR кривой наша модель плохо оценивает вероятность для объектов положительного класса. Так как логистическая регрессия использует в качестве функции потель логарифмическую функцию, которая корректно оценивает вероятности, то скорее всего наши данные имеют нелинейную зависимость. Попробуем построить модель используя метод ближайших соседей."
   ]
  },
  {
   "cell_type": "code",
   "execution_count": 34,
   "id": "b33b3e1e",
   "metadata": {
    "execution": {
     "iopub.execute_input": "2023-02-10T05:59:58.395212Z",
     "iopub.status.busy": "2023-02-10T05:59:58.394475Z",
     "iopub.status.idle": "2023-02-10T05:59:58.400922Z",
     "shell.execute_reply": "2023-02-10T05:59:58.399798Z",
     "shell.execute_reply.started": "2023-02-10T05:59:58.395164Z"
    }
   },
   "outputs": [],
   "source": [
    "from sklearn.neighbors import KNeighborsClassifier\n",
    "\n",
    "\n",
    "pipeline_KNN = Pipeline([('scaler', StandardScaler()),\n",
    "                         ('default_KNN', KNeighborsClassifier())])"
   ]
  },
  {
   "cell_type": "code",
   "execution_count": 35,
   "id": "811ebb27",
   "metadata": {
    "execution": {
     "iopub.execute_input": "2023-02-10T05:59:58.403127Z",
     "iopub.status.busy": "2023-02-10T05:59:58.402670Z",
     "iopub.status.idle": "2023-02-10T05:59:58.689346Z",
     "shell.execute_reply": "2023-02-10T05:59:58.688539Z",
     "shell.execute_reply.started": "2023-02-10T05:59:58.403051Z"
    }
   },
   "outputs": [
    {
     "data": {
      "text/plain": [
       "<sklearn.metrics._plot.precision_recall_curve.PrecisionRecallDisplay at 0x7fc9db7f9710>"
      ]
     },
     "execution_count": 35,
     "metadata": {},
     "output_type": "execute_result"
    },
    {
     "data": {
      "image/png": "[encoded data removed]",
      "text/plain": [
       "<Figure size 432x288 with 1 Axes>"
      ]
     },
     "metadata": {
      "needs_background": "dark"
     },
     "output_type": "display_data"
    }
   ],
   "source": [
    "pipeline_KNN.fit(\n",
    "    df_train.drop('Default', axis = 1),\n",
    "    df_train['Default']\n",
    ")\n",
    "\n",
    "PrecisionRecallDisplay.from_estimator(pipeline_KNN, df_test.drop('Default', axis = 1), df_test['Default'])"
   ]
  },
  {
   "cell_type": "code",
   "execution_count": 36,
   "id": "5aca5b32",
   "metadata": {
    "execution": {
     "iopub.execute_input": "2023-02-10T05:59:58.691072Z",
     "iopub.status.busy": "2023-02-10T05:59:58.690579Z",
     "iopub.status.idle": "2023-02-10T05:59:58.978735Z",
     "shell.execute_reply": "2023-02-10T05:59:58.977852Z",
     "shell.execute_reply.started": "2023-02-10T05:59:58.691034Z"
    }
   },
   "outputs": [
    {
     "data": {
      "text/plain": [
       "<sklearn.calibration.CalibrationDisplay at 0x7fc9db73fd10>"
      ]
     },
     "execution_count": 36,
     "metadata": {},
     "output_type": "execute_result"
    },
    {
     "data": {
      "image/png": "[encoded data removed]",
      "text/plain": [
       "<Figure size 432x288 with 1 Axes>"
      ]
     },
     "metadata": {
      "needs_background": "dark"
     },
     "output_type": "display_data"
    }
   ],
   "source": [
    "from sklearn.calibration import CalibrationDisplay\n",
    "\n",
    "\n",
    "CalibrationDisplay.from_estimator(pipeline_KNN, df_test.drop('Default', axis = 1), df_test['Default'])"
   ]
  },
  {
   "cell_type": "markdown",
   "id": "3c214536",
   "metadata": {},
   "source": [
    "Очень слабо. Можно попробовать откаллибровать вероятности, но продуктивнее будет двигаться дальше. Построим модель градиентного бустинга."
   ]
  },
  {
   "cell_type": "code",
   "execution_count": 37,
   "id": "0d60bd6a",
   "metadata": {
    "execution": {
     "iopub.execute_input": "2023-02-10T05:59:58.980519Z",
     "iopub.status.busy": "2023-02-10T05:59:58.980010Z",
     "iopub.status.idle": "2023-02-10T05:59:59.076176Z",
     "shell.execute_reply": "2023-02-10T05:59:59.075023Z",
     "shell.execute_reply.started": "2023-02-10T05:59:58.980484Z"
    }
   },
   "outputs": [],
   "source": [
    "from sklearn.ensemble import GradientBoostingClassifier\n",
    "\n",
    "pipeline_GB = Pipeline([('scaler', StandardScaler()),\n",
    "                         ('default_GB', GradientBoostingClassifier())])"
   ]
  },
  {
   "cell_type": "code",
   "execution_count": 38,
   "id": "211f8556",
   "metadata": {
    "execution": {
     "iopub.execute_input": "2023-02-10T05:59:59.078392Z",
     "iopub.status.busy": "2023-02-10T05:59:59.077839Z",
     "iopub.status.idle": "2023-02-10T05:59:59.783647Z",
     "shell.execute_reply": "2023-02-10T05:59:59.782426Z",
     "shell.execute_reply.started": "2023-02-10T05:59:59.078346Z"
    }
   },
   "outputs": [
    {
     "data": {
      "text/plain": [
       "<sklearn.metrics._plot.precision_recall_curve.PrecisionRecallDisplay at 0x7fc9db5facd0>"
      ]
     },
     "execution_count": 38,
     "metadata": {},
     "output_type": "execute_result"
    },
    {
     "data": {
      "image/png": "[encoded data removed]",
      "text/plain": [
       "<Figure size 432x288 with 1 Axes>"
      ]
     },
     "metadata": {
      "needs_background": "dark"
     },
     "output_type": "display_data"
    }
   ],
   "source": [
    "pipeline_GB.fit(\n",
    "    df_train.drop('Default', axis = 1),\n",
    "    df_train['Default']\n",
    ")\n",
    "\n",
    "PrecisionRecallDisplay.from_estimator(pipeline_GB, df_test.drop('Default', axis = 1), df_test['Default'])"
   ]
  },
  {
   "cell_type": "markdown",
   "id": "caaeb05a",
   "metadata": {},
   "source": [
    "Хуже чем логистическая регрессия, попробуем найти параметры которые дадут лучшую долю правильно размеченых объектов положительного класса."
   ]
  },
  {
   "cell_type": "code",
   "execution_count": 39,
   "id": "60c8c0f1",
   "metadata": {
    "execution": {
     "iopub.execute_input": "2023-02-10T05:59:59.785272Z",
     "iopub.status.busy": "2023-02-10T05:59:59.784943Z",
     "iopub.status.idle": "2023-02-10T06:04:36.315033Z",
     "shell.execute_reply": "2023-02-10T06:04:36.313937Z",
     "shell.execute_reply.started": "2023-02-10T05:59:59.785241Z"
    }
   },
   "outputs": [
    {
     "name": "stdout",
     "output_type": "stream",
     "text": [
      "Best parameter (CV score=0.45333):\n",
      "{'default_GB__learning_rate': 0.1, 'default_GB__max_depth': 2, 'default_GB__n_estimators': 100}\n",
      "Качество лучшей модели на финальном тесте: 1.0\n"
     ]
    }
   ],
   "source": [
    "from sklearn.model_selection import GridSearchCV\n",
    "\n",
    "param_grid = {\n",
    "    \"default_GB__n_estimators\": [10, 50, 100, 500],\n",
    "    \"default_GB__learning_rate\": [0.1, 0.01, 0.001],\n",
    "    \"default_GB__max_depth\": [2, 3, 5, 10]\n",
    "}\n",
    "\n",
    "search = GridSearchCV(pipeline_GB, \n",
    "                      param_grid, \n",
    "                      cv=5,\n",
    "                      scoring='precision')\n",
    "\n",
    "search.fit(df_train.drop('Default', axis = 1), df_train['Default'])\n",
    "\n",
    "print(f\"Best parameter (CV score={search.best_score_:.5f}):\")\n",
    "print(search.best_params_)\n",
    "\n",
    "print(f\"Качество лучшей модели на финальном тесте: {search.score(df_test.drop('Default', axis = 1), df_test['Default'])}\")"
   ]
  },
  {
   "cell_type": "markdown",
   "id": "dcc5e2ab",
   "metadata": {},
   "source": [
    "Ужасное качество на финальном тесте. Вероятнее всего модель переобучается, что свойственно градиентному бустингу. В таком случае вернемся к линейным моделям и попробуем подобрать параметры модели, которые дадут наибольший precision."
   ]
  },
  {
   "cell_type": "code",
   "execution_count": 40,
   "id": "086ec1d7",
   "metadata": {
    "execution": {
     "iopub.execute_input": "2023-02-10T06:04:36.316920Z",
     "iopub.status.busy": "2023-02-10T06:04:36.316569Z",
     "iopub.status.idle": "2023-02-10T06:04:37.176327Z",
     "shell.execute_reply": "2023-02-10T06:04:37.174611Z",
     "shell.execute_reply.started": "2023-02-10T06:04:36.316888Z"
    }
   },
   "outputs": [
    {
     "name": "stdout",
     "output_type": "stream",
     "text": [
      "Best parameter (CV score=0.32879):\n",
      "{'LR__penalty': 'l2'}\n",
      "Качество лучшей модели на финальном тесте: 0.6666666666666666\n"
     ]
    }
   ],
   "source": [
    "param_grid_LR = {\n",
    "    'LR__penalty': ['l1', 'l2', 'elasticnet']\n",
    "}\n",
    "\n",
    "search_LR = GridSearchCV(pipeline_baseline, \n",
    "                      param_grid_LR, \n",
    "                      cv=5,\n",
    "                      scoring='precision')\n",
    "\n",
    "search_LR.fit(df_train.drop('Default', axis = 1), df_train['Default'])\n",
    "\n",
    "print(f\"Best parameter (CV score={search_LR.best_score_:.5f}):\")\n",
    "print(search_LR.best_params_)\n",
    "\n",
    "print(f\"Качество лучшей модели на финальном тесте: {search_LR.score(df_test.drop('Default', axis = 1), df_test['Default'])}\")"
   ]
  },
  {
   "cell_type": "markdown",
   "id": "1a338b84",
   "metadata": {},
   "source": [
    "Без изменений. Дефолтная L2 регуляризация дает наибольший precision на финальном тесте. Поробуем построить SVM и также оценить precision."
   ]
  },
  {
   "cell_type": "code",
   "execution_count": 41,
   "id": "c0755d43",
   "metadata": {
    "execution": {
     "iopub.execute_input": "2023-02-10T06:04:37.180119Z",
     "iopub.status.busy": "2023-02-10T06:04:37.179053Z",
     "iopub.status.idle": "2023-02-10T06:04:38.504075Z",
     "shell.execute_reply": "2023-02-10T06:04:38.502180Z",
     "shell.execute_reply.started": "2023-02-10T06:04:37.180044Z"
    }
   },
   "outputs": [
    {
     "data": {
      "text/plain": [
       "0.3333333333333333"
      ]
     },
     "execution_count": 41,
     "metadata": {},
     "output_type": "execute_result"
    }
   ],
   "source": [
    "from sklearn.svm import LinearSVC\n",
    "\n",
    "pipe_svm = Pipeline([(\"scaler_svm\", StandardScaler()),\n",
    "                     (\"SVM\", LinearSVC())])\n",
    "\n",
    "\n",
    "pipe_svm.fit(df_train.drop('Default', axis = 1), df_train['Default'])\n",
    "\n",
    "precision_score(df_test['Default'].astype(int), pipe_svm.predict(df_test.drop('Default', axis = 1)))"
   ]
  },
  {
   "cell_type": "markdown",
   "id": "34e8b046",
   "metadata": {},
   "source": [
    "Подводя итог выше проделанной работе можно прийти к следующим выводам, если не получается кардинально улучшить метрику PR-AUC и улучшить обобщающую способность модели, то оставим базовую модель."
   ]
  },
  {
   "cell_type": "markdown",
   "id": "b08e599a",
   "metadata": {
    "execution": {
     "iopub.execute_input": "2023-02-09T06:22:12.865833Z",
     "iopub.status.busy": "2023-02-09T06:22:12.865424Z",
     "iopub.status.idle": "2023-02-09T06:22:12.874327Z",
     "shell.execute_reply": "2023-02-09T06:22:12.872362Z",
     "shell.execute_reply.started": "2023-02-09T06:22:12.865796Z"
    }
   },
   "source": [
    "Оценим ROC-AUC модели."
   ]
  },
  {
   "cell_type": "code",
   "execution_count": 42,
   "id": "f9830c0f",
   "metadata": {
    "execution": {
     "iopub.execute_input": "2023-02-10T06:04:38.507671Z",
     "iopub.status.busy": "2023-02-10T06:04:38.506657Z",
     "iopub.status.idle": "2023-02-10T06:04:38.759284Z",
     "shell.execute_reply": "2023-02-10T06:04:38.758148Z",
     "shell.execute_reply.started": "2023-02-10T06:04:38.507601Z"
    }
   },
   "outputs": [
    {
     "data": {
      "text/plain": [
       "<sklearn.metrics._plot.roc_curve.RocCurveDisplay at 0x7fc9db133710>"
      ]
     },
     "execution_count": 42,
     "metadata": {},
     "output_type": "execute_result"
    },
    {
     "data": {
      "image/png": "[encoded data removed]",
      "text/plain": [
       "<Figure size 432x288 with 1 Axes>"
      ]
     },
     "metadata": {
      "needs_background": "dark"
     },
     "output_type": "display_data"
    }
   ],
   "source": [
    "from sklearn.metrics import RocCurveDisplay\n",
    "\n",
    "RocCurveDisplay.from_estimator(pipeline_baseline, df_test.drop('Default', axis = 1), df_test['Default'])"
   ]
  },
  {
   "cell_type": "markdown",
   "id": "b10dd811",
   "metadata": {},
   "source": [
    "Достаточно неплохо, можно сделать вывод что несмотря на низкий precision, при высоком recall мы будем корректно определять положительный класс, но большое кол-во объектов класса 0 также будут определены как положительный. Да, мы сможем избежать потерь корректно определяя дефолтящие заказы, но в то же время будем терять прибыль ложно обозначая дефолтящими заказы, которые таковыми не являются."
   ]
  },
  {
   "cell_type": "markdown",
   "id": "eaa23284",
   "metadata": {},
   "source": [
    "### Кастомный трансформер"
   ]
  },
  {
   "cell_type": "markdown",
   "id": "8e6d7157",
   "metadata": {},
   "source": [
    "Проверим на тестовых данных. Для этого напишем кастомный трансформер предобработки данных для переиспользования. Предварительно обучив модель на всей выборке, так как данных мало, это может дать прирост в качестве."
   ]
  },
  {
   "cell_type": "code",
   "execution_count": 43,
   "id": "b07f0dd8",
   "metadata": {
    "execution": {
     "iopub.execute_input": "2023-02-10T06:04:38.760954Z",
     "iopub.status.busy": "2023-02-10T06:04:38.760628Z",
     "iopub.status.idle": "2023-02-10T06:04:38.888936Z",
     "shell.execute_reply": "2023-02-10T06:04:38.887444Z",
     "shell.execute_reply.started": "2023-02-10T06:04:38.760924Z"
    }
   },
   "outputs": [
    {
     "data": {
      "text/plain": [
       "Pipeline(steps=[('scaler', StandardScaler()),\n",
       "                ('LR', LogisticRegression(penalty='none'))])"
      ]
     },
     "execution_count": 43,
     "metadata": {},
     "output_type": "execute_result"
    }
   ],
   "source": [
    "pipeline_baseline.fit(\n",
    "    df.drop('Default', axis = 1),\n",
    "    df['Default'].astype(int)\n",
    ")"
   ]
  },
  {
   "cell_type": "code",
   "execution_count": 44,
   "id": "6c377261",
   "metadata": {
    "execution": {
     "iopub.execute_input": "2023-02-10T06:04:38.892443Z",
     "iopub.status.busy": "2023-02-10T06:04:38.891452Z",
     "iopub.status.idle": "2023-02-10T06:04:38.932494Z",
     "shell.execute_reply": "2023-02-10T06:04:38.930871Z",
     "shell.execute_reply.started": "2023-02-10T06:04:38.892382Z"
    }
   },
   "outputs": [],
   "source": [
    "from sklearn.base import BaseEstimator, TransformerMixin\n",
    "import itertools\n",
    "\n",
    "class CustomFunctionTransformer(BaseEstimator, TransformerMixin):\n",
    "    \n",
    "    def __init__(self,\n",
    "                 categorical_columns=[],\n",
    "                 target_name='Default'):\n",
    "        \n",
    "        self.categorical_columns = categorical_columns\n",
    "        self.target_name = target_name\n",
    "        \n",
    "                \n",
    "    def fit(self,\n",
    "            X,\n",
    "            y):\n",
    "        \n",
    "        X_fit = X.copy()\n",
    "        y_fit = y.copy()\n",
    "        \n",
    "        self.numeric_columns = ['Age']\n",
    "        \n",
    "        X_with_target = pd.concat((X_fit, y_fit), axis=1)\n",
    "        \n",
    "        popular_info_1 = X_with_target['Secret_dwarf_info_1'].value_counts().index[0]\n",
    "        X_with_target['Secret_dwarf_info_1'] = X_with_target['Secret_dwarf_info_1'].fillna(popular_info_1)\n",
    "        \n",
    "        self.info_2 = pd.Series(np.random.randint(-3, -1, X_with_target.shape[0]))\n",
    "        X_with_target['Secret_dwarf_info_2'] = X_with_target['Secret_dwarf_info_2'].fillna(self.info_2)\n",
    "        \n",
    "        popular_info_3 = X_with_target['Secret_dwarf_info_3'].value_counts().index[0]\n",
    "        X_with_target['Secret_dwarf_info_3'] = X_with_target['Secret_dwarf_info_3'].fillna(popular_info_3)\n",
    "        \n",
    "        X_with_target = X_with_target.dropna(subset=['Successful_deals_count', 'Region'])\n",
    "        \n",
    "        ### Сгенерим колонки к которым применим One-Hot-Encoding\n",
    "        self.cols_for_ohe = ['Secret_dwarf_info_1', 'Secret_dwarf_info_2', 'Secret_dwarf_info_3',\n",
    "       'Successful_deals_count', 'Region', 'Tavern', 'Hashed_deal_detail_2', \n",
    "       'Hashed_deal_detail_3', 'Hashed_deal_detail_4', 'Gender']\n",
    "        \n",
    "        ### Запомним все ohe колонки и их названия!\n",
    "        self.ohe_names = {col : sorted([f\"{col}_{value}\" for value in X_with_target[col].unique()])\n",
    "                          for col in self.cols_for_ohe}\n",
    "        \n",
    "        return self\n",
    "    \n",
    "    def transform(self,\n",
    "                  X,\n",
    "                  y=None):\n",
    "        \n",
    "        X_ = X.copy()\n",
    "        \n",
    "\n",
    "        X_ = X_[self.cols_for_ohe].astype('category')\n",
    "        data_part = pd.get_dummies(X_[self.cols_for_ohe],\n",
    "                                   prefix=self.cols_for_ohe)\n",
    "        \n",
    "        data_part_cols = data_part.columns\n",
    "        \n",
    "        X_ = X_.drop(self.cols_for_ohe, axis=1)\n",
    "        \n",
    "        X_ = pd.concat((X_, data_part), axis=1)\n",
    "            \n",
    "            \n",
    "        all_ohe = list(itertools.chain(*list(transformer.ohe_names.values())))\n",
    "        \n",
    "        missing_columns = [x \n",
    "                           for x in all_ohe\n",
    "                           if x not in X_.columns\n",
    "                           and\n",
    "                           x not in self.numeric_columns]\n",
    "\n",
    "        extra_columns = [x\n",
    "                         for x in data_part_cols\n",
    "                         if x not in all_ohe]\n",
    "        \n",
    "        ### Новые категории необходимо убрать\n",
    "        X_ = X_.drop(extra_columns, axis=1)\n",
    "    \n",
    "        ### Отсутствующие категории (бинарные колонки)\n",
    "        ### необходимо добавить: заполним их просто нулями\n",
    "        \n",
    "        if len(missing_columns) != 0:\n",
    "\n",
    "            zeros = np.zeros((X_.shape[0], len(missing_columns)))\n",
    "            zeros = pd.DataFrame(zeros,\n",
    "                                 columns=missing_columns,\n",
    "                                 index=X_.index)\n",
    "\n",
    "            X_ = pd.concat((X_, zeros), axis=1)\n",
    "        \n",
    "        X_ = X_.drop(['Gender_Female'], axis=1)\n",
    "        \n",
    "        return X_[sorted(X_.columns)]"
   ]
  },
  {
   "cell_type": "code",
   "execution_count": 45,
   "id": "f5a402d5",
   "metadata": {
    "execution": {
     "iopub.execute_input": "2023-02-10T06:04:38.936856Z",
     "iopub.status.busy": "2023-02-10T06:04:38.935422Z",
     "iopub.status.idle": "2023-02-10T06:04:39.007355Z",
     "shell.execute_reply": "2023-02-10T06:04:39.006312Z",
     "shell.execute_reply.started": "2023-02-10T06:04:38.936785Z"
    }
   },
   "outputs": [
    {
     "data": {
      "text/html": [
       "<div>\n",
       "<style scoped>\n",
       "    .dataframe tbody tr th:only-of-type {\n",
       "        vertical-align: middle;\n",
       "    }\n",
       "\n",
       "    .dataframe tbody tr th {\n",
       "        vertical-align: top;\n",
       "    }\n",
       "\n",
       "    .dataframe thead th {\n",
       "        text-align: right;\n",
       "    }\n",
       "</style>\n",
       "<table border=\"1\" class=\"dataframe\">\n",
       "  <thead>\n",
       "    <tr style=\"text-align: right;\">\n",
       "      <th></th>\n",
       "      <th>Deal_id</th>\n",
       "      <th>Deal_date</th>\n",
       "      <th>First_deal_date</th>\n",
       "      <th>Secret_dwarf_info_1</th>\n",
       "      <th>Secret_dwarf_info_2</th>\n",
       "      <th>Secret_dwarf_info_3</th>\n",
       "      <th>First_default_date</th>\n",
       "      <th>Successful_deals_count</th>\n",
       "      <th>Region</th>\n",
       "      <th>Tavern</th>\n",
       "      <th>Hashed_deal_detail_1</th>\n",
       "      <th>Hashed_deal_detail_2</th>\n",
       "      <th>Hashed_deal_detail_3</th>\n",
       "      <th>Hashed_deal_detail_4</th>\n",
       "      <th>Hashed_deal_detail_5</th>\n",
       "      <th>Hashed_deal_detail_6</th>\n",
       "      <th>Age</th>\n",
       "      <th>Gender</th>\n",
       "      <th>Default</th>\n",
       "    </tr>\n",
       "  </thead>\n",
       "  <tbody>\n",
       "    <tr>\n",
       "      <th>0</th>\n",
       "      <td>22487461</td>\n",
       "      <td>2015-11-05</td>\n",
       "      <td>2015-08-29</td>\n",
       "      <td>NaN</td>\n",
       "      <td>NaN</td>\n",
       "      <td>NaN</td>\n",
       "      <td>NaN</td>\n",
       "      <td>0.0</td>\n",
       "      <td>Tavern_district_3</td>\n",
       "      <td>7</td>\n",
       "      <td>2.5</td>\n",
       "      <td>-3</td>\n",
       "      <td>8</td>\n",
       "      <td>2.5</td>\n",
       "      <td>-3</td>\n",
       "      <td>5</td>\n",
       "      <td>36.0</td>\n",
       "      <td>Male</td>\n",
       "      <td>0</td>\n",
       "    </tr>\n",
       "    <tr>\n",
       "      <th>1</th>\n",
       "      <td>62494261</td>\n",
       "      <td>2016-08-26</td>\n",
       "      <td>2015-12-21</td>\n",
       "      <td>3.5</td>\n",
       "      <td>-2.0</td>\n",
       "      <td>5.0</td>\n",
       "      <td>2016-07-30</td>\n",
       "      <td>2.0</td>\n",
       "      <td>Tavern_district_4</td>\n",
       "      <td>7</td>\n",
       "      <td>2.5</td>\n",
       "      <td>-3</td>\n",
       "      <td>14</td>\n",
       "      <td>3.5</td>\n",
       "      <td>-3</td>\n",
       "      <td>5</td>\n",
       "      <td>29.0</td>\n",
       "      <td>Female</td>\n",
       "      <td>1</td>\n",
       "    </tr>\n",
       "    <tr>\n",
       "      <th>2</th>\n",
       "      <td>34822849</td>\n",
       "      <td>2016-02-18</td>\n",
       "      <td>2015-11-11</td>\n",
       "      <td>NaN</td>\n",
       "      <td>NaN</td>\n",
       "      <td>NaN</td>\n",
       "      <td>NaN</td>\n",
       "      <td>0.0</td>\n",
       "      <td>Tavern_district_6</td>\n",
       "      <td>7</td>\n",
       "      <td>2.5</td>\n",
       "      <td>-3</td>\n",
       "      <td>8</td>\n",
       "      <td>2.5</td>\n",
       "      <td>-3</td>\n",
       "      <td>5</td>\n",
       "      <td>56.0</td>\n",
       "      <td>Female</td>\n",
       "      <td>0</td>\n",
       "    </tr>\n",
       "    <tr>\n",
       "      <th>3</th>\n",
       "      <td>46893387</td>\n",
       "      <td>2016-04-30</td>\n",
       "      <td>2016-03-22</td>\n",
       "      <td>NaN</td>\n",
       "      <td>NaN</td>\n",
       "      <td>NaN</td>\n",
       "      <td>NaN</td>\n",
       "      <td>0.0</td>\n",
       "      <td>Tavern_district_2</td>\n",
       "      <td>13</td>\n",
       "      <td>2.5</td>\n",
       "      <td>-2</td>\n",
       "      <td>5</td>\n",
       "      <td>2.5</td>\n",
       "      <td>-3</td>\n",
       "      <td>5</td>\n",
       "      <td>27.0</td>\n",
       "      <td>Female</td>\n",
       "      <td>0</td>\n",
       "    </tr>\n",
       "    <tr>\n",
       "      <th>4</th>\n",
       "      <td>67128275</td>\n",
       "      <td>2016-09-19</td>\n",
       "      <td>2016-07-21</td>\n",
       "      <td>NaN</td>\n",
       "      <td>NaN</td>\n",
       "      <td>NaN</td>\n",
       "      <td>NaN</td>\n",
       "      <td>0.0</td>\n",
       "      <td>Tavern_district_4</td>\n",
       "      <td>39</td>\n",
       "      <td>2.5</td>\n",
       "      <td>-3</td>\n",
       "      <td>7</td>\n",
       "      <td>2.5</td>\n",
       "      <td>-3</td>\n",
       "      <td>5</td>\n",
       "      <td>37.0</td>\n",
       "      <td>Female</td>\n",
       "      <td>0</td>\n",
       "    </tr>\n",
       "  </tbody>\n",
       "</table>\n",
       "</div>"
      ],
      "text/plain": [
       "    Deal_id   Deal_date First_deal_date  Secret_dwarf_info_1  \\\n",
       "0  22487461  2015-11-05      2015-08-29                  NaN   \n",
       "1  62494261  2016-08-26      2015-12-21                  3.5   \n",
       "2  34822849  2016-02-18      2015-11-11                  NaN   \n",
       "3  46893387  2016-04-30      2016-03-22                  NaN   \n",
       "4  67128275  2016-09-19      2016-07-21                  NaN   \n",
       "\n",
       "   Secret_dwarf_info_2  Secret_dwarf_info_3 First_default_date  \\\n",
       "0                  NaN                  NaN                NaN   \n",
       "1                 -2.0                  5.0         2016-07-30   \n",
       "2                  NaN                  NaN                NaN   \n",
       "3                  NaN                  NaN                NaN   \n",
       "4                  NaN                  NaN                NaN   \n",
       "\n",
       "   Successful_deals_count             Region  Tavern  Hashed_deal_detail_1  \\\n",
       "0                     0.0  Tavern_district_3       7                   2.5   \n",
       "1                     2.0  Tavern_district_4       7                   2.5   \n",
       "2                     0.0  Tavern_district_6       7                   2.5   \n",
       "3                     0.0  Tavern_district_2      13                   2.5   \n",
       "4                     0.0  Tavern_district_4      39                   2.5   \n",
       "\n",
       "   Hashed_deal_detail_2  Hashed_deal_detail_3  Hashed_deal_detail_4  \\\n",
       "0                    -3                     8                   2.5   \n",
       "1                    -3                    14                   3.5   \n",
       "2                    -3                     8                   2.5   \n",
       "3                    -2                     5                   2.5   \n",
       "4                    -3                     7                   2.5   \n",
       "\n",
       "   Hashed_deal_detail_5  Hashed_deal_detail_6   Age  Gender  Default  \n",
       "0                    -3                     5  36.0    Male        0  \n",
       "1                    -3                     5  29.0  Female        1  \n",
       "2                    -3                     5  56.0  Female        0  \n",
       "3                    -3                     5  27.0  Female        0  \n",
       "4                    -3                     5  37.0  Female        0  "
      ]
     },
     "execution_count": 45,
     "metadata": {},
     "output_type": "execute_result"
    }
   ],
   "source": [
    "df = pd.read_csv(\"/kaggle/input/dwarf-data/train.csv\")\n",
    "df.head()"
   ]
  },
  {
   "cell_type": "markdown",
   "id": "c7937b2f",
   "metadata": {},
   "source": [
    "Проверим корректно ли работает трансформер."
   ]
  },
  {
   "cell_type": "code",
   "execution_count": 46,
   "id": "1a05b014",
   "metadata": {
    "execution": {
     "iopub.execute_input": "2023-02-10T06:04:39.010428Z",
     "iopub.status.busy": "2023-02-10T06:04:39.009007Z",
     "iopub.status.idle": "2023-02-10T06:04:39.033429Z",
     "shell.execute_reply": "2023-02-10T06:04:39.032638Z",
     "shell.execute_reply.started": "2023-02-10T06:04:39.010380Z"
    }
   },
   "outputs": [
    {
     "data": {
      "text/plain": [
       "CustomFunctionTransformer(categorical_columns=['Secret_dwarf_info_1',\n",
       "                                               'Secret_dwarf_info_2',\n",
       "                                               'Secret_dwarf_info_3',\n",
       "                                               'Successful_deals_count',\n",
       "                                               'Region', 'Tavern',\n",
       "                                               'Hashed_deal_detail_2',\n",
       "                                               'Hashed_deal_detail_3',\n",
       "                                               'Hashed_deal_detail_4',\n",
       "                                               'Gender'])"
      ]
     },
     "execution_count": 46,
     "metadata": {},
     "output_type": "execute_result"
    }
   ],
   "source": [
    "transformer = CustomFunctionTransformer(categorical_columns=categorical_columns,\n",
    "                                       target_name='Default')\n",
    "\n",
    "transformer.fit(df.drop('Default', axis = 1), df['Default'])"
   ]
  },
  {
   "cell_type": "code",
   "execution_count": 47,
   "id": "39c8919a",
   "metadata": {
    "execution": {
     "iopub.execute_input": "2023-02-10T06:04:39.035464Z",
     "iopub.status.busy": "2023-02-10T06:04:39.034538Z",
     "iopub.status.idle": "2023-02-10T06:04:39.064481Z",
     "shell.execute_reply": "2023-02-10T06:04:39.063349Z",
     "shell.execute_reply.started": "2023-02-10T06:04:39.035425Z"
    }
   },
   "outputs": [],
   "source": [
    "check_train = transformer.transform(df)"
   ]
  },
  {
   "cell_type": "code",
   "execution_count": 48,
   "id": "58429c1a",
   "metadata": {
    "execution": {
     "iopub.execute_input": "2023-02-10T06:04:39.066142Z",
     "iopub.status.busy": "2023-02-10T06:04:39.065806Z",
     "iopub.status.idle": "2023-02-10T06:04:39.082641Z",
     "shell.execute_reply": "2023-02-10T06:04:39.081864Z",
     "shell.execute_reply.started": "2023-02-10T06:04:39.066111Z"
    }
   },
   "outputs": [
    {
     "data": {
      "text/html": [
       "<div>\n",
       "<style scoped>\n",
       "    .dataframe tbody tr th:only-of-type {\n",
       "        vertical-align: middle;\n",
       "    }\n",
       "\n",
       "    .dataframe tbody tr th {\n",
       "        vertical-align: top;\n",
       "    }\n",
       "\n",
       "    .dataframe thead th {\n",
       "        text-align: right;\n",
       "    }\n",
       "</style>\n",
       "<table border=\"1\" class=\"dataframe\">\n",
       "  <thead>\n",
       "    <tr style=\"text-align: right;\">\n",
       "      <th></th>\n",
       "      <th>Gender_Male</th>\n",
       "      <th>Hashed_deal_detail_2_-1</th>\n",
       "      <th>Hashed_deal_detail_2_-2</th>\n",
       "      <th>Hashed_deal_detail_2_-3</th>\n",
       "      <th>Hashed_deal_detail_2_0</th>\n",
       "      <th>Hashed_deal_detail_2_1</th>\n",
       "      <th>Hashed_deal_detail_2_10</th>\n",
       "      <th>Hashed_deal_detail_2_11</th>\n",
       "      <th>Hashed_deal_detail_2_12</th>\n",
       "      <th>Hashed_deal_detail_2_13</th>\n",
       "      <th>...</th>\n",
       "      <th>Tavern_27</th>\n",
       "      <th>Tavern_39</th>\n",
       "      <th>Tavern_43</th>\n",
       "      <th>Tavern_44</th>\n",
       "      <th>Tavern_45</th>\n",
       "      <th>Tavern_47</th>\n",
       "      <th>Tavern_49</th>\n",
       "      <th>Tavern_58</th>\n",
       "      <th>Tavern_7</th>\n",
       "      <th>Tavern_8</th>\n",
       "    </tr>\n",
       "  </thead>\n",
       "  <tbody>\n",
       "    <tr>\n",
       "      <th>0</th>\n",
       "      <td>1</td>\n",
       "      <td>0</td>\n",
       "      <td>0</td>\n",
       "      <td>1</td>\n",
       "      <td>0</td>\n",
       "      <td>0</td>\n",
       "      <td>0</td>\n",
       "      <td>0</td>\n",
       "      <td>0</td>\n",
       "      <td>0</td>\n",
       "      <td>...</td>\n",
       "      <td>0</td>\n",
       "      <td>0</td>\n",
       "      <td>0</td>\n",
       "      <td>0</td>\n",
       "      <td>0</td>\n",
       "      <td>0</td>\n",
       "      <td>0</td>\n",
       "      <td>0</td>\n",
       "      <td>1</td>\n",
       "      <td>0</td>\n",
       "    </tr>\n",
       "    <tr>\n",
       "      <th>1</th>\n",
       "      <td>0</td>\n",
       "      <td>0</td>\n",
       "      <td>0</td>\n",
       "      <td>1</td>\n",
       "      <td>0</td>\n",
       "      <td>0</td>\n",
       "      <td>0</td>\n",
       "      <td>0</td>\n",
       "      <td>0</td>\n",
       "      <td>0</td>\n",
       "      <td>...</td>\n",
       "      <td>0</td>\n",
       "      <td>0</td>\n",
       "      <td>0</td>\n",
       "      <td>0</td>\n",
       "      <td>0</td>\n",
       "      <td>0</td>\n",
       "      <td>0</td>\n",
       "      <td>0</td>\n",
       "      <td>1</td>\n",
       "      <td>0</td>\n",
       "    </tr>\n",
       "    <tr>\n",
       "      <th>2</th>\n",
       "      <td>0</td>\n",
       "      <td>0</td>\n",
       "      <td>0</td>\n",
       "      <td>1</td>\n",
       "      <td>0</td>\n",
       "      <td>0</td>\n",
       "      <td>0</td>\n",
       "      <td>0</td>\n",
       "      <td>0</td>\n",
       "      <td>0</td>\n",
       "      <td>...</td>\n",
       "      <td>0</td>\n",
       "      <td>0</td>\n",
       "      <td>0</td>\n",
       "      <td>0</td>\n",
       "      <td>0</td>\n",
       "      <td>0</td>\n",
       "      <td>0</td>\n",
       "      <td>0</td>\n",
       "      <td>1</td>\n",
       "      <td>0</td>\n",
       "    </tr>\n",
       "    <tr>\n",
       "      <th>3</th>\n",
       "      <td>0</td>\n",
       "      <td>0</td>\n",
       "      <td>1</td>\n",
       "      <td>0</td>\n",
       "      <td>0</td>\n",
       "      <td>0</td>\n",
       "      <td>0</td>\n",
       "      <td>0</td>\n",
       "      <td>0</td>\n",
       "      <td>0</td>\n",
       "      <td>...</td>\n",
       "      <td>0</td>\n",
       "      <td>0</td>\n",
       "      <td>0</td>\n",
       "      <td>0</td>\n",
       "      <td>0</td>\n",
       "      <td>0</td>\n",
       "      <td>0</td>\n",
       "      <td>0</td>\n",
       "      <td>0</td>\n",
       "      <td>0</td>\n",
       "    </tr>\n",
       "    <tr>\n",
       "      <th>4</th>\n",
       "      <td>0</td>\n",
       "      <td>0</td>\n",
       "      <td>0</td>\n",
       "      <td>1</td>\n",
       "      <td>0</td>\n",
       "      <td>0</td>\n",
       "      <td>0</td>\n",
       "      <td>0</td>\n",
       "      <td>0</td>\n",
       "      <td>0</td>\n",
       "      <td>...</td>\n",
       "      <td>0</td>\n",
       "      <td>1</td>\n",
       "      <td>0</td>\n",
       "      <td>0</td>\n",
       "      <td>0</td>\n",
       "      <td>0</td>\n",
       "      <td>0</td>\n",
       "      <td>0</td>\n",
       "      <td>0</td>\n",
       "      <td>0</td>\n",
       "    </tr>\n",
       "  </tbody>\n",
       "</table>\n",
       "<p>5 rows × 126 columns</p>\n",
       "</div>"
      ],
      "text/plain": [
       "   Gender_Male  Hashed_deal_detail_2_-1  Hashed_deal_detail_2_-2  \\\n",
       "0            1                        0                        0   \n",
       "1            0                        0                        0   \n",
       "2            0                        0                        0   \n",
       "3            0                        0                        1   \n",
       "4            0                        0                        0   \n",
       "\n",
       "   Hashed_deal_detail_2_-3  Hashed_deal_detail_2_0  Hashed_deal_detail_2_1  \\\n",
       "0                        1                       0                       0   \n",
       "1                        1                       0                       0   \n",
       "2                        1                       0                       0   \n",
       "3                        0                       0                       0   \n",
       "4                        1                       0                       0   \n",
       "\n",
       "   Hashed_deal_detail_2_10  Hashed_deal_detail_2_11  Hashed_deal_detail_2_12  \\\n",
       "0                        0                        0                        0   \n",
       "1                        0                        0                        0   \n",
       "2                        0                        0                        0   \n",
       "3                        0                        0                        0   \n",
       "4                        0                        0                        0   \n",
       "\n",
       "   Hashed_deal_detail_2_13  ...  Tavern_27  Tavern_39  Tavern_43  Tavern_44  \\\n",
       "0                        0  ...          0          0          0          0   \n",
       "1                        0  ...          0          0          0          0   \n",
       "2                        0  ...          0          0          0          0   \n",
       "3                        0  ...          0          0          0          0   \n",
       "4                        0  ...          0          1          0          0   \n",
       "\n",
       "   Tavern_45  Tavern_47  Tavern_49  Tavern_58  Tavern_7  Tavern_8  \n",
       "0          0          0          0          0         1         0  \n",
       "1          0          0          0          0         1         0  \n",
       "2          0          0          0          0         1         0  \n",
       "3          0          0          0          0         0         0  \n",
       "4          0          0          0          0         0         0  \n",
       "\n",
       "[5 rows x 126 columns]"
      ]
     },
     "execution_count": 48,
     "metadata": {},
     "output_type": "execute_result"
    }
   ],
   "source": [
    "check_train.head()"
   ]
  },
  {
   "cell_type": "code",
   "execution_count": 73,
   "id": "0460285c",
   "metadata": {
    "execution": {
     "iopub.execute_input": "2023-02-10T06:14:02.092309Z",
     "iopub.status.busy": "2023-02-10T06:14:02.091769Z",
     "iopub.status.idle": "2023-02-10T06:14:02.182249Z",
     "shell.execute_reply": "2023-02-10T06:14:02.181021Z",
     "shell.execute_reply.started": "2023-02-10T06:14:02.092262Z"
    }
   },
   "outputs": [
    {
     "data": {
      "text/plain": [
       "Pipeline(steps=[('custom_transformer',\n",
       "                 CustomFunctionTransformer(categorical_columns=['Secret_dwarf_info_1',\n",
       "                                                                'Secret_dwarf_info_2',\n",
       "                                                                'Secret_dwarf_info_3',\n",
       "                                                                'Successful_deals_count',\n",
       "                                                                'Region',\n",
       "                                                                'Tavern',\n",
       "                                                                'Hashed_deal_detail_2',\n",
       "                                                                'Hashed_deal_detail_3',\n",
       "                                                                'Hashed_deal_detail_4',\n",
       "                                                                'Gender'])),\n",
       "                ('scaler', StandardScaler()),\n",
       "                ('default_GB',\n",
       "                 GradientBoostingClassifier(learning_rate=0.5, max_depth=2,\n",
       "                                            n_estimators=5))])"
      ]
     },
     "execution_count": 73,
     "metadata": {},
     "output_type": "execute_result"
    }
   ],
   "source": [
    "pipe = Pipeline([('custom_transformer',\n",
    "                  CustomFunctionTransformer(categorical_columns=categorical_columns,\n",
    "                                            target_name='Default')),\n",
    "                 ('scaler', StandardScaler()),\n",
    "                 ('default_GB', GradientBoostingClassifier(n_estimators=5, learning_rate=0.5, max_depth=2))])\n",
    "\n",
    "pipe.fit(df.drop('Default', axis = 1), df['Default'])"
   ]
  },
  {
   "cell_type": "code",
   "execution_count": 74,
   "id": "0975bee9",
   "metadata": {
    "execution": {
     "iopub.execute_input": "2023-02-10T06:14:05.886100Z",
     "iopub.status.busy": "2023-02-10T06:14:05.885686Z",
     "iopub.status.idle": "2023-02-10T06:14:06.142716Z",
     "shell.execute_reply": "2023-02-10T06:14:06.141150Z",
     "shell.execute_reply.started": "2023-02-10T06:14:05.886051Z"
    }
   },
   "outputs": [
    {
     "data": {
      "text/plain": [
       "<sklearn.metrics._plot.roc_curve.RocCurveDisplay at 0x7fc9dd1fcd50>"
      ]
     },
     "execution_count": 74,
     "metadata": {},
     "output_type": "execute_result"
    },
    {
     "data": {
      "image/png": "[encoded data removed]",
      "text/plain": [
       "<Figure size 432x288 with 1 Axes>"
      ]
     },
     "metadata": {
      "needs_background": "dark"
     },
     "output_type": "display_data"
    }
   ],
   "source": [
    "RocCurveDisplay.from_estimator(pipe, df.drop('Default', axis = 1), df['Default'])"
   ]
  },
  {
   "cell_type": "code",
   "execution_count": 61,
   "id": "bf2aebc5",
   "metadata": {
    "execution": {
     "iopub.execute_input": "2023-02-10T06:08:40.030169Z",
     "iopub.status.busy": "2023-02-10T06:08:40.029648Z",
     "iopub.status.idle": "2023-02-10T06:08:40.061750Z",
     "shell.execute_reply": "2023-02-10T06:08:40.060900Z",
     "shell.execute_reply.started": "2023-02-10T06:08:40.030123Z"
    }
   },
   "outputs": [
    {
     "data": {
      "text/html": [
       "<div>\n",
       "<style scoped>\n",
       "    .dataframe tbody tr th:only-of-type {\n",
       "        vertical-align: middle;\n",
       "    }\n",
       "\n",
       "    .dataframe tbody tr th {\n",
       "        vertical-align: top;\n",
       "    }\n",
       "\n",
       "    .dataframe thead th {\n",
       "        text-align: right;\n",
       "    }\n",
       "</style>\n",
       "<table border=\"1\" class=\"dataframe\">\n",
       "  <thead>\n",
       "    <tr style=\"text-align: right;\">\n",
       "      <th></th>\n",
       "      <th>Deal_id</th>\n",
       "      <th>Deal_date</th>\n",
       "      <th>First_deal_date</th>\n",
       "      <th>Secret_dwarf_info_1</th>\n",
       "      <th>Secret_dwarf_info_2</th>\n",
       "      <th>Secret_dwarf_info_3</th>\n",
       "      <th>First_default_date</th>\n",
       "      <th>Successful_deals_count</th>\n",
       "      <th>Region</th>\n",
       "      <th>Tavern</th>\n",
       "      <th>Hashed_deal_detail_1</th>\n",
       "      <th>Hashed_deal_detail_2</th>\n",
       "      <th>Hashed_deal_detail_3</th>\n",
       "      <th>Hashed_deal_detail_4</th>\n",
       "      <th>Hashed_deal_detail_5</th>\n",
       "      <th>Hashed_deal_detail_6</th>\n",
       "      <th>Age</th>\n",
       "      <th>Gender</th>\n",
       "    </tr>\n",
       "  </thead>\n",
       "  <tbody>\n",
       "    <tr>\n",
       "      <th>0</th>\n",
       "      <td>72875713</td>\n",
       "      <td>2016-10-14</td>\n",
       "      <td>2015-09-20</td>\n",
       "      <td>NaN</td>\n",
       "      <td>NaN</td>\n",
       "      <td>NaN</td>\n",
       "      <td>NaN</td>\n",
       "      <td>0.0</td>\n",
       "      <td>Tavern_district_2</td>\n",
       "      <td>7</td>\n",
       "      <td>2.5</td>\n",
       "      <td>-3</td>\n",
       "      <td>18</td>\n",
       "      <td>2.5</td>\n",
       "      <td>-3</td>\n",
       "      <td>5</td>\n",
       "      <td>40.0</td>\n",
       "      <td>Female</td>\n",
       "    </tr>\n",
       "    <tr>\n",
       "      <th>1</th>\n",
       "      <td>75825544</td>\n",
       "      <td>2016-10-23</td>\n",
       "      <td>2015-06-16</td>\n",
       "      <td>NaN</td>\n",
       "      <td>NaN</td>\n",
       "      <td>NaN</td>\n",
       "      <td>NaN</td>\n",
       "      <td>6.0</td>\n",
       "      <td>Tavern_district_3</td>\n",
       "      <td>18</td>\n",
       "      <td>2.5</td>\n",
       "      <td>-2</td>\n",
       "      <td>15</td>\n",
       "      <td>3.5</td>\n",
       "      <td>-3</td>\n",
       "      <td>5</td>\n",
       "      <td>66.0</td>\n",
       "      <td>Female</td>\n",
       "    </tr>\n",
       "    <tr>\n",
       "      <th>2</th>\n",
       "      <td>81809181</td>\n",
       "      <td>2016-11-17</td>\n",
       "      <td>2016-09-11</td>\n",
       "      <td>NaN</td>\n",
       "      <td>NaN</td>\n",
       "      <td>NaN</td>\n",
       "      <td>NaN</td>\n",
       "      <td>0.0</td>\n",
       "      <td>Tavern_district_3</td>\n",
       "      <td>7</td>\n",
       "      <td>2.5</td>\n",
       "      <td>-3</td>\n",
       "      <td>7</td>\n",
       "      <td>2.5</td>\n",
       "      <td>-3</td>\n",
       "      <td>5</td>\n",
       "      <td>36.0</td>\n",
       "      <td>Female</td>\n",
       "    </tr>\n",
       "    <tr>\n",
       "      <th>3</th>\n",
       "      <td>87083256</td>\n",
       "      <td>2016-12-26</td>\n",
       "      <td>2016-06-25</td>\n",
       "      <td>NaN</td>\n",
       "      <td>NaN</td>\n",
       "      <td>NaN</td>\n",
       "      <td>NaN</td>\n",
       "      <td>0.0</td>\n",
       "      <td>Tavern_district_4</td>\n",
       "      <td>7</td>\n",
       "      <td>2.5</td>\n",
       "      <td>-2</td>\n",
       "      <td>6</td>\n",
       "      <td>2.5</td>\n",
       "      <td>2</td>\n",
       "      <td>5</td>\n",
       "      <td>32.0</td>\n",
       "      <td>Female</td>\n",
       "    </tr>\n",
       "    <tr>\n",
       "      <th>4</th>\n",
       "      <td>84651519</td>\n",
       "      <td>2016-12-07</td>\n",
       "      <td>2016-10-15</td>\n",
       "      <td>NaN</td>\n",
       "      <td>NaN</td>\n",
       "      <td>NaN</td>\n",
       "      <td>NaN</td>\n",
       "      <td>0.0</td>\n",
       "      <td>Tavern_district_3</td>\n",
       "      <td>7</td>\n",
       "      <td>2.5</td>\n",
       "      <td>-3</td>\n",
       "      <td>6</td>\n",
       "      <td>2.5</td>\n",
       "      <td>-3</td>\n",
       "      <td>5</td>\n",
       "      <td>37.0</td>\n",
       "      <td>Female</td>\n",
       "    </tr>\n",
       "  </tbody>\n",
       "</table>\n",
       "</div>"
      ],
      "text/plain": [
       "    Deal_id   Deal_date First_deal_date  Secret_dwarf_info_1  \\\n",
       "0  72875713  2016-10-14      2015-09-20                  NaN   \n",
       "1  75825544  2016-10-23      2015-06-16                  NaN   \n",
       "2  81809181  2016-11-17      2016-09-11                  NaN   \n",
       "3  87083256  2016-12-26      2016-06-25                  NaN   \n",
       "4  84651519  2016-12-07      2016-10-15                  NaN   \n",
       "\n",
       "   Secret_dwarf_info_2  Secret_dwarf_info_3 First_default_date  \\\n",
       "0                  NaN                  NaN                NaN   \n",
       "1                  NaN                  NaN                NaN   \n",
       "2                  NaN                  NaN                NaN   \n",
       "3                  NaN                  NaN                NaN   \n",
       "4                  NaN                  NaN                NaN   \n",
       "\n",
       "   Successful_deals_count             Region  Tavern  Hashed_deal_detail_1  \\\n",
       "0                     0.0  Tavern_district_2       7                   2.5   \n",
       "1                     6.0  Tavern_district_3      18                   2.5   \n",
       "2                     0.0  Tavern_district_3       7                   2.5   \n",
       "3                     0.0  Tavern_district_4       7                   2.5   \n",
       "4                     0.0  Tavern_district_3       7                   2.5   \n",
       "\n",
       "   Hashed_deal_detail_2  Hashed_deal_detail_3  Hashed_deal_detail_4  \\\n",
       "0                    -3                    18                   2.5   \n",
       "1                    -2                    15                   3.5   \n",
       "2                    -3                     7                   2.5   \n",
       "3                    -2                     6                   2.5   \n",
       "4                    -3                     6                   2.5   \n",
       "\n",
       "   Hashed_deal_detail_5  Hashed_deal_detail_6   Age  Gender  \n",
       "0                    -3                     5  40.0  Female  \n",
       "1                    -3                     5  66.0  Female  \n",
       "2                    -3                     5  36.0  Female  \n",
       "3                     2                     5  32.0  Female  \n",
       "4                    -3                     5  37.0  Female  "
      ]
     },
     "execution_count": 61,
     "metadata": {},
     "output_type": "execute_result"
    }
   ],
   "source": [
    "df_test = pd.read_csv(\"data/test.csv\")\n",
    "df_test.head()"
   ]
  },
  {
   "cell_type": "code",
   "execution_count": 75,
   "id": "f12e5b44",
   "metadata": {
    "execution": {
     "iopub.execute_input": "2023-02-10T06:14:14.759060Z",
     "iopub.status.busy": "2023-02-10T06:14:14.758670Z",
     "iopub.status.idle": "2023-02-10T06:14:14.796979Z",
     "shell.execute_reply": "2023-02-10T06:14:14.795640Z",
     "shell.execute_reply.started": "2023-02-10T06:14:14.759028Z"
    }
   },
   "outputs": [],
   "source": [
    "test_preds = pd.DataFrame({'Prediction': pipe.predict_proba(df_test)[:, 1]})\n",
    "test_preds_df = pd.DataFrame(df_test['Deal_id'])\n",
    "test_preds_df = pd.concat([test_preds_df, test_preds], axis=1)"
   ]
  },
  {
   "cell_type": "code",
   "execution_count": 76,
   "id": "1792a9af",
   "metadata": {
    "execution": {
     "iopub.execute_input": "2023-02-10T06:14:15.853898Z",
     "iopub.status.busy": "2023-02-10T06:14:15.853261Z",
     "iopub.status.idle": "2023-02-10T06:14:15.862370Z",
     "shell.execute_reply": "2023-02-10T06:14:15.861246Z",
     "shell.execute_reply.started": "2023-02-10T06:14:15.853863Z"
    }
   },
   "outputs": [],
   "source": [
    "test_preds_df.to_csv('data/output.csv')"
   ]
  },
  {
   "cell_type": "markdown",
   "id": "4d142e03",
   "metadata": {},
   "source": [
    "### В каком направлении улучшать?"
   ]
  },
  {
   "cell_type": "markdown",
   "id": "e4c93fc1",
   "metadata": {},
   "source": [
    "Можно попробовать выделить новые признаки, путем возведения в степень некоторых фичей и построить полиномиальную модель. Также можно снизить размерность пространства признаков методом главных компонент(PCA) и кластеризовать объекты. Расстояние до определенного кластера можно использовать в качестве нового признака. Спарсить годы месяцы и дни из дат также может быть полезным."
   ]
  }
 ],
 "metadata": {
  "kernelspec": {
   "display_name": "Python 3 (ipykernel)",
   "language": "python",
   "name": "python3"
  },
  "language_info": {
   "codemirror_mode": {
    "name": "ipython",
    "version": 3
   },
   "file_extension": ".py",
   "mimetype": "text/x-python",
   "name": "python",
   "nbconvert_exporter": "python",
   "pygments_lexer": "ipython3",
   "version": "3.9.12"
  }
 },
 "nbformat": 4,
 "nbformat_minor": 5
}
